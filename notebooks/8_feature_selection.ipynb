{
 "cells": [
  {
   "cell_type": "code",
   "execution_count": 171,
   "metadata": {},
   "outputs": [],
   "source": [
    "import numpy as np\n",
    "import pandas as pd\n",
    "import matplotlib.pyplot as plt\n",
    "import seaborn as sns"
   ]
  },
  {
   "cell_type": "code",
   "execution_count": 172,
   "metadata": {},
   "outputs": [],
   "source": [
    "pd.set_option('display.max_columns', None)"
   ]
  },
  {
   "cell_type": "code",
   "execution_count": 173,
   "metadata": {},
   "outputs": [],
   "source": [
    "df = pd.read_csv('../data/flats_missing_value_imputation.csv')"
   ]
  },
  {
   "cell_type": "code",
   "execution_count": 174,
   "metadata": {},
   "outputs": [
    {
     "data": {
      "text/plain": [
       "(2832, 13)"
      ]
     },
     "execution_count": 174,
     "metadata": {},
     "output_type": "execute_result"
    }
   ],
   "source": [
    "df.shape"
   ]
  },
  {
   "cell_type": "code",
   "execution_count": 175,
   "metadata": {},
   "outputs": [
    {
     "data": {
      "text/plain": [
       "Index(['society', 'price', 'sector', 'price_per_sqft', 'bedRoom', 'bathroom',\n",
       "       'balcony', 'extra_rooms', 'floorNum', 'agePossession', 'built_up_area',\n",
       "       'furnishing_type', 'luxury_score'],\n",
       "      dtype='object')"
      ]
     },
     "execution_count": 175,
     "metadata": {},
     "output_type": "execute_result"
    }
   ],
   "source": [
    "df.columns"
   ]
  },
  {
   "cell_type": "code",
   "execution_count": 176,
   "metadata": {},
   "outputs": [
    {
     "data": {
      "text/plain": [
       "society            0\n",
       "price              0\n",
       "sector             0\n",
       "price_per_sqft     0\n",
       "bedRoom            0\n",
       "bathroom           0\n",
       "balcony            0\n",
       "extra_rooms        0\n",
       "floorNum           0\n",
       "agePossession      0\n",
       "built_up_area      0\n",
       "furnishing_type    0\n",
       "luxury_score       0\n",
       "dtype: int64"
      ]
     },
     "execution_count": 176,
     "metadata": {},
     "output_type": "execute_result"
    }
   ],
   "source": [
    "df.isnull().sum()"
   ]
  },
  {
   "cell_type": "code",
   "execution_count": 177,
   "metadata": {},
   "outputs": [
    {
     "data": {
      "text/plain": [
       "np.int64(4)"
      ]
     },
     "execution_count": 177,
     "metadata": {},
     "output_type": "execute_result"
    }
   ],
   "source": [
    "df.duplicated().sum()"
   ]
  },
  {
   "cell_type": "code",
   "execution_count": 178,
   "metadata": {},
   "outputs": [
    {
     "data": {
      "text/html": [
       "<div>\n",
       "<style scoped>\n",
       "    .dataframe tbody tr th:only-of-type {\n",
       "        vertical-align: middle;\n",
       "    }\n",
       "\n",
       "    .dataframe tbody tr th {\n",
       "        vertical-align: top;\n",
       "    }\n",
       "\n",
       "    .dataframe thead th {\n",
       "        text-align: right;\n",
       "    }\n",
       "</style>\n",
       "<table border=\"1\" class=\"dataframe\">\n",
       "  <thead>\n",
       "    <tr style=\"text-align: right;\">\n",
       "      <th></th>\n",
       "      <th>society</th>\n",
       "      <th>price</th>\n",
       "      <th>sector</th>\n",
       "      <th>price_per_sqft</th>\n",
       "      <th>bedRoom</th>\n",
       "      <th>bathroom</th>\n",
       "      <th>balcony</th>\n",
       "      <th>extra_rooms</th>\n",
       "      <th>floorNum</th>\n",
       "      <th>agePossession</th>\n",
       "      <th>built_up_area</th>\n",
       "      <th>furnishing_type</th>\n",
       "      <th>luxury_score</th>\n",
       "    </tr>\n",
       "  </thead>\n",
       "  <tbody>\n",
       "    <tr>\n",
       "      <th>0</th>\n",
       "      <td>maa bhagwati residency</td>\n",
       "      <td>0.45</td>\n",
       "      <td>sector 7</td>\n",
       "      <td>4500.000000</td>\n",
       "      <td>2</td>\n",
       "      <td>2</td>\n",
       "      <td>1</td>\n",
       "      <td>0</td>\n",
       "      <td>4</td>\n",
       "      <td>Relatively New</td>\n",
       "      <td>1000.0</td>\n",
       "      <td>0</td>\n",
       "      <td>28</td>\n",
       "    </tr>\n",
       "    <tr>\n",
       "      <th>1</th>\n",
       "      <td>apna enclave</td>\n",
       "      <td>0.50</td>\n",
       "      <td>sector 3</td>\n",
       "      <td>6925.207756</td>\n",
       "      <td>2</td>\n",
       "      <td>2</td>\n",
       "      <td>1</td>\n",
       "      <td>0</td>\n",
       "      <td>1</td>\n",
       "      <td>Old Property</td>\n",
       "      <td>722.0</td>\n",
       "      <td>2</td>\n",
       "      <td>37</td>\n",
       "    </tr>\n",
       "    <tr>\n",
       "      <th>2</th>\n",
       "      <td>tulsiani easy in homes</td>\n",
       "      <td>0.40</td>\n",
       "      <td>sohna road</td>\n",
       "      <td>6051.437216</td>\n",
       "      <td>2</td>\n",
       "      <td>2</td>\n",
       "      <td>3</td>\n",
       "      <td>0</td>\n",
       "      <td>12</td>\n",
       "      <td>New Property</td>\n",
       "      <td>661.0</td>\n",
       "      <td>0</td>\n",
       "      <td>36</td>\n",
       "    </tr>\n",
       "    <tr>\n",
       "      <th>3</th>\n",
       "      <td>smart world orchard</td>\n",
       "      <td>1.47</td>\n",
       "      <td>sector 61</td>\n",
       "      <td>11027.756939</td>\n",
       "      <td>2</td>\n",
       "      <td>2</td>\n",
       "      <td>2</td>\n",
       "      <td>1</td>\n",
       "      <td>2</td>\n",
       "      <td>Under Construction</td>\n",
       "      <td>1333.0</td>\n",
       "      <td>0</td>\n",
       "      <td>76</td>\n",
       "    </tr>\n",
       "    <tr>\n",
       "      <th>4</th>\n",
       "      <td>parkwood westend</td>\n",
       "      <td>0.70</td>\n",
       "      <td>sector 92</td>\n",
       "      <td>5751.848809</td>\n",
       "      <td>2</td>\n",
       "      <td>2</td>\n",
       "      <td>3</td>\n",
       "      <td>1</td>\n",
       "      <td>5</td>\n",
       "      <td>Under Construction</td>\n",
       "      <td>1217.0</td>\n",
       "      <td>0</td>\n",
       "      <td>0</td>\n",
       "    </tr>\n",
       "  </tbody>\n",
       "</table>\n",
       "</div>"
      ],
      "text/plain": [
       "                  society  price      sector  price_per_sqft  bedRoom  \\\n",
       "0  maa bhagwati residency   0.45    sector 7     4500.000000        2   \n",
       "1            apna enclave   0.50    sector 3     6925.207756        2   \n",
       "2  tulsiani easy in homes   0.40  sohna road     6051.437216        2   \n",
       "3     smart world orchard   1.47   sector 61    11027.756939        2   \n",
       "4        parkwood westend   0.70   sector 92     5751.848809        2   \n",
       "\n",
       "   bathroom balcony  extra_rooms  floorNum       agePossession  built_up_area  \\\n",
       "0         2       1            0         4      Relatively New         1000.0   \n",
       "1         2       1            0         1        Old Property          722.0   \n",
       "2         2       3            0        12        New Property          661.0   \n",
       "3         2       2            1         2  Under Construction         1333.0   \n",
       "4         2       3            1         5  Under Construction         1217.0   \n",
       "\n",
       "   furnishing_type  luxury_score  \n",
       "0                0            28  \n",
       "1                2            37  \n",
       "2                0            36  \n",
       "3                0            76  \n",
       "4                0             0  "
      ]
     },
     "execution_count": 178,
     "metadata": {},
     "output_type": "execute_result"
    }
   ],
   "source": [
    "df.head()"
   ]
  },
  {
   "cell_type": "markdown",
   "metadata": {},
   "source": [
    "Comments: We want to drop 'society' and 'price_per_sqft' column coz in website we are not going to ask these things. If someone already knows 'price_per_sqft' he can already predict the price."
   ]
  },
  {
   "cell_type": "code",
   "execution_count": 179,
   "metadata": {},
   "outputs": [],
   "source": [
    "\n",
    "train_df = df.drop(columns=['society','price_per_sqft'])"
   ]
  },
  {
   "cell_type": "code",
   "execution_count": 180,
   "metadata": {},
   "outputs": [
    {
     "data": {
      "text/html": [
       "<div>\n",
       "<style scoped>\n",
       "    .dataframe tbody tr th:only-of-type {\n",
       "        vertical-align: middle;\n",
       "    }\n",
       "\n",
       "    .dataframe tbody tr th {\n",
       "        vertical-align: top;\n",
       "    }\n",
       "\n",
       "    .dataframe thead th {\n",
       "        text-align: right;\n",
       "    }\n",
       "</style>\n",
       "<table border=\"1\" class=\"dataframe\">\n",
       "  <thead>\n",
       "    <tr style=\"text-align: right;\">\n",
       "      <th></th>\n",
       "      <th>price</th>\n",
       "      <th>sector</th>\n",
       "      <th>bedRoom</th>\n",
       "      <th>bathroom</th>\n",
       "      <th>balcony</th>\n",
       "      <th>extra_rooms</th>\n",
       "      <th>floorNum</th>\n",
       "      <th>agePossession</th>\n",
       "      <th>built_up_area</th>\n",
       "      <th>furnishing_type</th>\n",
       "      <th>luxury_score</th>\n",
       "    </tr>\n",
       "  </thead>\n",
       "  <tbody>\n",
       "    <tr>\n",
       "      <th>0</th>\n",
       "      <td>0.45</td>\n",
       "      <td>sector 7</td>\n",
       "      <td>2</td>\n",
       "      <td>2</td>\n",
       "      <td>1</td>\n",
       "      <td>0</td>\n",
       "      <td>4</td>\n",
       "      <td>Relatively New</td>\n",
       "      <td>1000.0</td>\n",
       "      <td>0</td>\n",
       "      <td>28</td>\n",
       "    </tr>\n",
       "    <tr>\n",
       "      <th>1</th>\n",
       "      <td>0.50</td>\n",
       "      <td>sector 3</td>\n",
       "      <td>2</td>\n",
       "      <td>2</td>\n",
       "      <td>1</td>\n",
       "      <td>0</td>\n",
       "      <td>1</td>\n",
       "      <td>Old Property</td>\n",
       "      <td>722.0</td>\n",
       "      <td>2</td>\n",
       "      <td>37</td>\n",
       "    </tr>\n",
       "    <tr>\n",
       "      <th>2</th>\n",
       "      <td>0.40</td>\n",
       "      <td>sohna road</td>\n",
       "      <td>2</td>\n",
       "      <td>2</td>\n",
       "      <td>3</td>\n",
       "      <td>0</td>\n",
       "      <td>12</td>\n",
       "      <td>New Property</td>\n",
       "      <td>661.0</td>\n",
       "      <td>0</td>\n",
       "      <td>36</td>\n",
       "    </tr>\n",
       "    <tr>\n",
       "      <th>3</th>\n",
       "      <td>1.47</td>\n",
       "      <td>sector 61</td>\n",
       "      <td>2</td>\n",
       "      <td>2</td>\n",
       "      <td>2</td>\n",
       "      <td>1</td>\n",
       "      <td>2</td>\n",
       "      <td>Under Construction</td>\n",
       "      <td>1333.0</td>\n",
       "      <td>0</td>\n",
       "      <td>76</td>\n",
       "    </tr>\n",
       "    <tr>\n",
       "      <th>4</th>\n",
       "      <td>0.70</td>\n",
       "      <td>sector 92</td>\n",
       "      <td>2</td>\n",
       "      <td>2</td>\n",
       "      <td>3</td>\n",
       "      <td>1</td>\n",
       "      <td>5</td>\n",
       "      <td>Under Construction</td>\n",
       "      <td>1217.0</td>\n",
       "      <td>0</td>\n",
       "      <td>0</td>\n",
       "    </tr>\n",
       "  </tbody>\n",
       "</table>\n",
       "</div>"
      ],
      "text/plain": [
       "   price      sector  bedRoom  bathroom balcony  extra_rooms  floorNum  \\\n",
       "0   0.45    sector 7        2         2       1            0         4   \n",
       "1   0.50    sector 3        2         2       1            0         1   \n",
       "2   0.40  sohna road        2         2       3            0        12   \n",
       "3   1.47   sector 61        2         2       2            1         2   \n",
       "4   0.70   sector 92        2         2       3            1         5   \n",
       "\n",
       "        agePossession  built_up_area  furnishing_type  luxury_score  \n",
       "0      Relatively New         1000.0                0            28  \n",
       "1        Old Property          722.0                2            37  \n",
       "2        New Property          661.0                0            36  \n",
       "3  Under Construction         1333.0                0            76  \n",
       "4  Under Construction         1217.0                0             0  "
      ]
     },
     "execution_count": 180,
     "metadata": {},
     "output_type": "execute_result"
    }
   ],
   "source": [
    "train_df.head()"
   ]
  },
  {
   "cell_type": "markdown",
   "metadata": {},
   "source": [
    "Luxury Score"
   ]
  },
  {
   "cell_type": "markdown",
   "metadata": {},
   "source": [
    "Comments: We want to convert this column to a category column. Bcoz in website we can't ask user to give a luxury score. Instead we'll ask user to provide luxury type 'low', 'medium', 'high'"
   ]
  },
  {
   "cell_type": "code",
   "execution_count": 181,
   "metadata": {},
   "outputs": [
    {
     "data": {
      "text/plain": [
       "<Axes: ylabel='luxury_score'>"
      ]
     },
     "execution_count": 181,
     "metadata": {},
     "output_type": "execute_result"
    },
    {
     "data": {
      "image/png": "[encoded data removed]",
      "text/plain": [
       "<Figure size 640x480 with 1 Axes>"
      ]
     },
     "metadata": {},
     "output_type": "display_data"
    }
   ],
   "source": [
    "sns.boxplot(df['luxury_score'])"
   ]
  },
  {
   "cell_type": "code",
   "execution_count": 182,
   "metadata": {},
   "outputs": [
    {
     "data": {
      "text/plain": [
       "luxury_score\n",
       "0      227\n",
       "5        6\n",
       "6        5\n",
       "7       16\n",
       "8       17\n",
       "      ... \n",
       "166     10\n",
       "167     21\n",
       "168      9\n",
       "169      1\n",
       "174    195\n",
       "Name: count, Length: 156, dtype: int64"
      ]
     },
     "execution_count": 182,
     "metadata": {},
     "output_type": "execute_result"
    }
   ],
   "source": [
    "df['luxury_score'].value_counts().sort_index()"
   ]
  },
  {
   "cell_type": "code",
   "execution_count": 183,
   "metadata": {},
   "outputs": [],
   "source": [
    "def categorize_luxury(score):\n",
    "    if 0 <= score < 50:\n",
    "        return \"Low\"\n",
    "    elif 50 <= score < 150:\n",
    "        return \"Medium\"\n",
    "    elif score >= 150:\n",
    "        return \"High\""
   ]
  },
  {
   "cell_type": "code",
   "execution_count": 184,
   "metadata": {},
   "outputs": [],
   "source": [
    "train_df['luxury_category'] = train_df['luxury_score'].apply(categorize_luxury)"
   ]
  },
  {
   "cell_type": "code",
   "execution_count": 185,
   "metadata": {},
   "outputs": [
    {
     "data": {
      "text/plain": [
       "luxury_category\n",
       "High       449\n",
       "Low       1138\n",
       "Medium    1245\n",
       "Name: count, dtype: int64"
      ]
     },
     "execution_count": 185,
     "metadata": {},
     "output_type": "execute_result"
    }
   ],
   "source": [
    "train_df['luxury_category'].value_counts().sort_index()"
   ]
  },
  {
   "cell_type": "code",
   "execution_count": 186,
   "metadata": {},
   "outputs": [
    {
     "data": {
      "text/html": [
       "<div>\n",
       "<style scoped>\n",
       "    .dataframe tbody tr th:only-of-type {\n",
       "        vertical-align: middle;\n",
       "    }\n",
       "\n",
       "    .dataframe tbody tr th {\n",
       "        vertical-align: top;\n",
       "    }\n",
       "\n",
       "    .dataframe thead th {\n",
       "        text-align: right;\n",
       "    }\n",
       "</style>\n",
       "<table border=\"1\" class=\"dataframe\">\n",
       "  <thead>\n",
       "    <tr style=\"text-align: right;\">\n",
       "      <th></th>\n",
       "      <th>price</th>\n",
       "      <th>sector</th>\n",
       "      <th>bedRoom</th>\n",
       "      <th>bathroom</th>\n",
       "      <th>balcony</th>\n",
       "      <th>extra_rooms</th>\n",
       "      <th>floorNum</th>\n",
       "      <th>agePossession</th>\n",
       "      <th>built_up_area</th>\n",
       "      <th>furnishing_type</th>\n",
       "      <th>luxury_score</th>\n",
       "      <th>luxury_category</th>\n",
       "    </tr>\n",
       "  </thead>\n",
       "  <tbody>\n",
       "    <tr>\n",
       "      <th>0</th>\n",
       "      <td>0.45</td>\n",
       "      <td>sector 7</td>\n",
       "      <td>2</td>\n",
       "      <td>2</td>\n",
       "      <td>1</td>\n",
       "      <td>0</td>\n",
       "      <td>4</td>\n",
       "      <td>Relatively New</td>\n",
       "      <td>1000.0</td>\n",
       "      <td>0</td>\n",
       "      <td>28</td>\n",
       "      <td>Low</td>\n",
       "    </tr>\n",
       "    <tr>\n",
       "      <th>1</th>\n",
       "      <td>0.50</td>\n",
       "      <td>sector 3</td>\n",
       "      <td>2</td>\n",
       "      <td>2</td>\n",
       "      <td>1</td>\n",
       "      <td>0</td>\n",
       "      <td>1</td>\n",
       "      <td>Old Property</td>\n",
       "      <td>722.0</td>\n",
       "      <td>2</td>\n",
       "      <td>37</td>\n",
       "      <td>Low</td>\n",
       "    </tr>\n",
       "    <tr>\n",
       "      <th>2</th>\n",
       "      <td>0.40</td>\n",
       "      <td>sohna road</td>\n",
       "      <td>2</td>\n",
       "      <td>2</td>\n",
       "      <td>3</td>\n",
       "      <td>0</td>\n",
       "      <td>12</td>\n",
       "      <td>New Property</td>\n",
       "      <td>661.0</td>\n",
       "      <td>0</td>\n",
       "      <td>36</td>\n",
       "      <td>Low</td>\n",
       "    </tr>\n",
       "    <tr>\n",
       "      <th>3</th>\n",
       "      <td>1.47</td>\n",
       "      <td>sector 61</td>\n",
       "      <td>2</td>\n",
       "      <td>2</td>\n",
       "      <td>2</td>\n",
       "      <td>1</td>\n",
       "      <td>2</td>\n",
       "      <td>Under Construction</td>\n",
       "      <td>1333.0</td>\n",
       "      <td>0</td>\n",
       "      <td>76</td>\n",
       "      <td>Medium</td>\n",
       "    </tr>\n",
       "    <tr>\n",
       "      <th>4</th>\n",
       "      <td>0.70</td>\n",
       "      <td>sector 92</td>\n",
       "      <td>2</td>\n",
       "      <td>2</td>\n",
       "      <td>3</td>\n",
       "      <td>1</td>\n",
       "      <td>5</td>\n",
       "      <td>Under Construction</td>\n",
       "      <td>1217.0</td>\n",
       "      <td>0</td>\n",
       "      <td>0</td>\n",
       "      <td>Low</td>\n",
       "    </tr>\n",
       "  </tbody>\n",
       "</table>\n",
       "</div>"
      ],
      "text/plain": [
       "   price      sector  bedRoom  bathroom balcony  extra_rooms  floorNum  \\\n",
       "0   0.45    sector 7        2         2       1            0         4   \n",
       "1   0.50    sector 3        2         2       1            0         1   \n",
       "2   0.40  sohna road        2         2       3            0        12   \n",
       "3   1.47   sector 61        2         2       2            1         2   \n",
       "4   0.70   sector 92        2         2       3            1         5   \n",
       "\n",
       "        agePossession  built_up_area  furnishing_type  luxury_score  \\\n",
       "0      Relatively New         1000.0                0            28   \n",
       "1        Old Property          722.0                2            37   \n",
       "2        New Property          661.0                0            36   \n",
       "3  Under Construction         1333.0                0            76   \n",
       "4  Under Construction         1217.0                0             0   \n",
       "\n",
       "  luxury_category  \n",
       "0             Low  \n",
       "1             Low  \n",
       "2             Low  \n",
       "3          Medium  \n",
       "4             Low  "
      ]
     },
     "execution_count": 186,
     "metadata": {},
     "output_type": "execute_result"
    }
   ],
   "source": [
    "train_df.head()"
   ]
  },
  {
   "cell_type": "markdown",
   "metadata": {},
   "source": [
    "floorNum"
   ]
  },
  {
   "cell_type": "markdown",
   "metadata": {},
   "source": [
    "Comments: We want to convert this column to a category column. Bcoz in website we can't ask user to mention specific floor. Instead we'll ask user to provide 'Low Floor', 'Mid Floor', 'High Floor'"
   ]
  },
  {
   "cell_type": "code",
   "execution_count": 187,
   "metadata": {},
   "outputs": [
    {
     "data": {
      "text/plain": [
       "floorNum\n",
       "0     124\n",
       "1     203\n",
       "2     242\n",
       "3     229\n",
       "4     191\n",
       "5     163\n",
       "6     181\n",
       "7     178\n",
       "8     195\n",
       "9     160\n",
       "10    176\n",
       "11    110\n",
       "12    155\n",
       "13     39\n",
       "14    108\n",
       "15     79\n",
       "16     51\n",
       "17     47\n",
       "18     37\n",
       "19     33\n",
       "20     25\n",
       "21     15\n",
       "22     13\n",
       "23     14\n",
       "24     11\n",
       "25      9\n",
       "26      5\n",
       "27      7\n",
       "28      4\n",
       "29      3\n",
       "30      5\n",
       "31      3\n",
       "32      2\n",
       "33      3\n",
       "34      2\n",
       "35      2\n",
       "38      1\n",
       "39      2\n",
       "40      1\n",
       "43      2\n",
       "44      1\n",
       "45      1\n",
       "Name: count, dtype: int64"
      ]
     },
     "execution_count": 187,
     "metadata": {},
     "output_type": "execute_result"
    }
   ],
   "source": [
    "train_df['floorNum'].value_counts().sort_index()"
   ]
  },
  {
   "cell_type": "code",
   "execution_count": 188,
   "metadata": {},
   "outputs": [],
   "source": [
    "def categorize_floor(floor):\n",
    "    if 0 <= floor <= 2:\n",
    "        return \"Low Floor\"\n",
    "    elif 3 <= floor <= 10:\n",
    "        return \"Mid Floor\"\n",
    "    elif floor >= 11:\n",
    "        return \"High Floor\""
   ]
  },
  {
   "cell_type": "code",
   "execution_count": 189,
   "metadata": {},
   "outputs": [],
   "source": [
    "train_df['floor_category'] = train_df['floorNum'].apply(categorize_floor)"
   ]
  },
  {
   "cell_type": "code",
   "execution_count": 190,
   "metadata": {},
   "outputs": [
    {
     "data": {
      "text/plain": [
       "floor_category\n",
       "High Floor     790\n",
       "Low Floor      569\n",
       "Mid Floor     1473\n",
       "Name: count, dtype: int64"
      ]
     },
     "execution_count": 190,
     "metadata": {},
     "output_type": "execute_result"
    }
   ],
   "source": [
    "train_df['floor_category'].value_counts().sort_index()"
   ]
  },
  {
   "cell_type": "code",
   "execution_count": 191,
   "metadata": {},
   "outputs": [
    {
     "data": {
      "text/plain": [
       "Index(['price', 'sector', 'bedRoom', 'bathroom', 'balcony', 'extra_rooms',\n",
       "       'floorNum', 'agePossession', 'built_up_area', 'furnishing_type',\n",
       "       'luxury_score', 'luxury_category', 'floor_category'],\n",
       "      dtype='object')"
      ]
     },
     "execution_count": 191,
     "metadata": {},
     "output_type": "execute_result"
    }
   ],
   "source": [
    "train_df.columns"
   ]
  },
  {
   "cell_type": "markdown",
   "metadata": {},
   "source": [
    "Comments: Dropping 'floorNum' and 'luxury_score' column now"
   ]
  },
  {
   "cell_type": "code",
   "execution_count": 192,
   "metadata": {},
   "outputs": [],
   "source": [
    "train_df.drop(columns=['floorNum','luxury_score'],inplace=True)"
   ]
  },
  {
   "cell_type": "code",
   "execution_count": 193,
   "metadata": {},
   "outputs": [
    {
     "data": {
      "text/plain": [
       "Index(['price', 'sector', 'bedRoom', 'bathroom', 'balcony', 'extra_rooms',\n",
       "       'agePossession', 'built_up_area', 'furnishing_type', 'luxury_category',\n",
       "       'floor_category'],\n",
       "      dtype='object')"
      ]
     },
     "execution_count": 193,
     "metadata": {},
     "output_type": "execute_result"
    }
   ],
   "source": [
    "train_df.columns"
   ]
  },
  {
   "cell_type": "code",
   "execution_count": 194,
   "metadata": {},
   "outputs": [
    {
     "data": {
      "text/html": [
       "<div>\n",
       "<style scoped>\n",
       "    .dataframe tbody tr th:only-of-type {\n",
       "        vertical-align: middle;\n",
       "    }\n",
       "\n",
       "    .dataframe tbody tr th {\n",
       "        vertical-align: top;\n",
       "    }\n",
       "\n",
       "    .dataframe thead th {\n",
       "        text-align: right;\n",
       "    }\n",
       "</style>\n",
       "<table border=\"1\" class=\"dataframe\">\n",
       "  <thead>\n",
       "    <tr style=\"text-align: right;\">\n",
       "      <th></th>\n",
       "      <th>price</th>\n",
       "      <th>sector</th>\n",
       "      <th>bedRoom</th>\n",
       "      <th>bathroom</th>\n",
       "      <th>balcony</th>\n",
       "      <th>extra_rooms</th>\n",
       "      <th>agePossession</th>\n",
       "      <th>built_up_area</th>\n",
       "      <th>furnishing_type</th>\n",
       "      <th>luxury_category</th>\n",
       "      <th>floor_category</th>\n",
       "    </tr>\n",
       "  </thead>\n",
       "  <tbody>\n",
       "    <tr>\n",
       "      <th>0</th>\n",
       "      <td>0.45</td>\n",
       "      <td>sector 7</td>\n",
       "      <td>2</td>\n",
       "      <td>2</td>\n",
       "      <td>1</td>\n",
       "      <td>0</td>\n",
       "      <td>Relatively New</td>\n",
       "      <td>1000.0</td>\n",
       "      <td>0</td>\n",
       "      <td>Low</td>\n",
       "      <td>Mid Floor</td>\n",
       "    </tr>\n",
       "    <tr>\n",
       "      <th>1</th>\n",
       "      <td>0.50</td>\n",
       "      <td>sector 3</td>\n",
       "      <td>2</td>\n",
       "      <td>2</td>\n",
       "      <td>1</td>\n",
       "      <td>0</td>\n",
       "      <td>Old Property</td>\n",
       "      <td>722.0</td>\n",
       "      <td>2</td>\n",
       "      <td>Low</td>\n",
       "      <td>Low Floor</td>\n",
       "    </tr>\n",
       "    <tr>\n",
       "      <th>2</th>\n",
       "      <td>0.40</td>\n",
       "      <td>sohna road</td>\n",
       "      <td>2</td>\n",
       "      <td>2</td>\n",
       "      <td>3</td>\n",
       "      <td>0</td>\n",
       "      <td>New Property</td>\n",
       "      <td>661.0</td>\n",
       "      <td>0</td>\n",
       "      <td>Low</td>\n",
       "      <td>High Floor</td>\n",
       "    </tr>\n",
       "    <tr>\n",
       "      <th>3</th>\n",
       "      <td>1.47</td>\n",
       "      <td>sector 61</td>\n",
       "      <td>2</td>\n",
       "      <td>2</td>\n",
       "      <td>2</td>\n",
       "      <td>1</td>\n",
       "      <td>Under Construction</td>\n",
       "      <td>1333.0</td>\n",
       "      <td>0</td>\n",
       "      <td>Medium</td>\n",
       "      <td>Low Floor</td>\n",
       "    </tr>\n",
       "    <tr>\n",
       "      <th>4</th>\n",
       "      <td>0.70</td>\n",
       "      <td>sector 92</td>\n",
       "      <td>2</td>\n",
       "      <td>2</td>\n",
       "      <td>3</td>\n",
       "      <td>1</td>\n",
       "      <td>Under Construction</td>\n",
       "      <td>1217.0</td>\n",
       "      <td>0</td>\n",
       "      <td>Low</td>\n",
       "      <td>Mid Floor</td>\n",
       "    </tr>\n",
       "  </tbody>\n",
       "</table>\n",
       "</div>"
      ],
      "text/plain": [
       "   price      sector  bedRoom  bathroom balcony  extra_rooms  \\\n",
       "0   0.45    sector 7        2         2       1            0   \n",
       "1   0.50    sector 3        2         2       1            0   \n",
       "2   0.40  sohna road        2         2       3            0   \n",
       "3   1.47   sector 61        2         2       2            1   \n",
       "4   0.70   sector 92        2         2       3            1   \n",
       "\n",
       "        agePossession  built_up_area  furnishing_type luxury_category  \\\n",
       "0      Relatively New         1000.0                0             Low   \n",
       "1        Old Property          722.0                2             Low   \n",
       "2        New Property          661.0                0             Low   \n",
       "3  Under Construction         1333.0                0          Medium   \n",
       "4  Under Construction         1217.0                0             Low   \n",
       "\n",
       "  floor_category  \n",
       "0      Mid Floor  \n",
       "1      Low Floor  \n",
       "2     High Floor  \n",
       "3      Low Floor  \n",
       "4      Mid Floor  "
      ]
     },
     "execution_count": 194,
     "metadata": {},
     "output_type": "execute_result"
    }
   ],
   "source": [
    "train_df.head()"
   ]
  },
  {
   "cell_type": "markdown",
   "metadata": {},
   "source": [
    "Feature Selection Techniques"
   ]
  },
  {
   "cell_type": "code",
   "execution_count": 195,
   "metadata": {},
   "outputs": [
    {
     "name": "stdout",
     "output_type": "stream",
     "text": [
      "<class 'pandas.core.frame.DataFrame'>\n",
      "RangeIndex: 2832 entries, 0 to 2831\n",
      "Data columns (total 11 columns):\n",
      " #   Column           Non-Null Count  Dtype  \n",
      "---  ------           --------------  -----  \n",
      " 0   price            2832 non-null   float64\n",
      " 1   sector           2832 non-null   object \n",
      " 2   bedRoom          2832 non-null   int64  \n",
      " 3   bathroom         2832 non-null   int64  \n",
      " 4   balcony          2832 non-null   object \n",
      " 5   extra_rooms      2832 non-null   int64  \n",
      " 6   agePossession    2832 non-null   object \n",
      " 7   built_up_area    2832 non-null   float64\n",
      " 8   furnishing_type  2832 non-null   int64  \n",
      " 9   luxury_category  2832 non-null   object \n",
      " 10  floor_category   2832 non-null   object \n",
      "dtypes: float64(2), int64(4), object(5)\n",
      "memory usage: 243.5+ KB\n"
     ]
    }
   ],
   "source": [
    "train_df.info()"
   ]
  },
  {
   "cell_type": "code",
   "execution_count": 196,
   "metadata": {},
   "outputs": [
    {
     "name": "stdout",
     "output_type": "stream",
     "text": [
      "      price      sector  built_up_area  bedRoom  bathroom balcony  \\\n",
      "0      0.45    sector 7         1000.0        2         2       1   \n",
      "1      0.50    sector 3          722.0        2         2       1   \n",
      "2      0.40  sohna road          661.0        2         2       3   \n",
      "3      1.47   sector 61         1333.0        2         2       2   \n",
      "4      0.70   sector 92         1217.0        2         2       3   \n",
      "...     ...         ...            ...      ...       ...     ...   \n",
      "2827   1.05   sector 86         1715.0        3         3       3   \n",
      "2828   3.30   sector 48         3305.0        5         5      3+   \n",
      "2829   0.95  sector 108         1649.0        3         3       3   \n",
      "2830   5.80   sector 24         3700.0        3         4      3+   \n",
      "2831  11.00   sector 54         2826.0        4         6       3   \n",
      "\n",
      "      extra_rooms       agePossession  furnishing_type luxury_category  \\\n",
      "0               0      Relatively New                0             Low   \n",
      "1               0        Old Property                2             Low   \n",
      "2               0        New Property                0             Low   \n",
      "3               1  Under Construction                0          Medium   \n",
      "4               1  Under Construction                0             Low   \n",
      "...           ...                 ...              ...             ...   \n",
      "2827            1  Under Construction                0             Low   \n",
      "2828            1        Old Property                0          Medium   \n",
      "2829            1      Relatively New                0          Medium   \n",
      "2830            4        Old Property                1          Medium   \n",
      "2831            1      Relatively New                1          Medium   \n",
      "\n",
      "     floor_category  \n",
      "0         Mid Floor  \n",
      "1         Low Floor  \n",
      "2        High Floor  \n",
      "3         Low Floor  \n",
      "4         Mid Floor  \n",
      "...             ...  \n",
      "2827      Mid Floor  \n",
      "2828      Mid Floor  \n",
      "2829      Mid Floor  \n",
      "2830      Mid Floor  \n",
      "2831      Mid Floor  \n",
      "\n",
      "[2832 rows x 11 columns]\n"
     ]
    }
   ],
   "source": [
    "train_df = train_df[[\"price\", \"sector\", \"built_up_area\", \"bedRoom\", \"bathroom\", \"balcony\", \"extra_rooms\", \"agePossession\", \"furnishing_type\", \"luxury_category\", \"floor_category\"]]\n",
    "print(train_df)"
   ]
  },
  {
   "cell_type": "code",
   "execution_count": 197,
   "metadata": {},
   "outputs": [
    {
     "data": {
      "text/plain": [
       "price              0\n",
       "sector             0\n",
       "built_up_area      0\n",
       "bedRoom            0\n",
       "bathroom           0\n",
       "balcony            0\n",
       "extra_rooms        0\n",
       "agePossession      0\n",
       "furnishing_type    0\n",
       "luxury_category    0\n",
       "floor_category     0\n",
       "dtype: int64"
      ]
     },
     "execution_count": 197,
     "metadata": {},
     "output_type": "execute_result"
    }
   ],
   "source": [
    "train_df.isnull().sum()"
   ]
  },
  {
   "cell_type": "code",
   "execution_count": 198,
   "metadata": {},
   "outputs": [],
   "source": [
    "train_df.to_csv('../data/flats_post_feature_selection.csv', index=False)"
   ]
  },
  {
   "cell_type": "markdown",
   "metadata": {},
   "source": [
    "Remarks: We want to onehot encode the categorical(object) variables so fit into ml models. But do note, for tree based models it works fine. But for Linear Regression type models we have to use one hot encoding"
   ]
  },
  {
   "cell_type": "code",
   "execution_count": 199,
   "metadata": {},
   "outputs": [
    {
     "name": "stdout",
     "output_type": "stream",
     "text": [
      "[array(['ambience island', 'ats marigold', 'bhawani enclave',\n",
      "       'block a sector 21', 'bptp', 'carterpuri village', 'civil l',\n",
      "       'cyber city', 'dwarka expressway', 'garauli kalan',\n",
      "       'godrej aria , sector 79 ,', 'golf course ext road', 'gwal pahari',\n",
      "       'heritage city', 'iffco chowk', 'kanahi', 'lajpat nagar',\n",
      "       'manesar', 'near pataudi chowk', 'near sector 1 market',\n",
      "       'new sector 2 phase 2', 'old delhi road, opp sector-14',\n",
      "       'rajiv colony', 'sai kunj', 'samaspur', 'saroop garden sector 105',\n",
      "       'sector 1', 'sector 102', 'sector 103', 'sector 104', 'sector 105',\n",
      "       'sector 106', 'sector 107', 'sector 108', 'sector 109',\n",
      "       'sector 10a', 'sector 11', 'sector 110', 'sector 111',\n",
      "       'sector 112', 'sector 113', 'sector 12', 'sector 14', 'sector 15',\n",
      "       'sector 15 part 1', 'sector 2', 'sector 21', 'sector 22',\n",
      "       'sector 23', 'sector 24', 'sector 25', 'sector 28', 'sector 3',\n",
      "       'sector 3 phase 2', 'sector 3 phase 3 extension', 'sector 30',\n",
      "       'sector 31', 'sector 33', 'sector 36', 'sector 36a', 'sector 37',\n",
      "       'sector 37c', 'sector 37d', 'sector 38', 'sector 39', 'sector 4',\n",
      "       'sector 41', 'sector 43', 'sector 45', 'sector 47', 'sector 48',\n",
      "       'sector 49', 'sector 5', 'sector 5 chowk', 'sector 50',\n",
      "       'sector 51', 'sector 52', 'sector 53', 'sector 54', 'sector 55',\n",
      "       'sector 56', 'sector 57', 'sector 58', 'sector 59', 'sector 6',\n",
      "       'sector 60', 'sector 61', 'sector 62', 'sector 63', 'sector 63a',\n",
      "       'sector 65', 'sector 66', 'sector 67', 'sector 67a', 'sector 68',\n",
      "       'sector 69', 'sector 7', 'sector 70', 'sector 70a', 'sector 71',\n",
      "       'sector 72', 'sector 73', 'sector 74', 'sector 76', 'sector 77',\n",
      "       'sector 78', 'sector 79', 'sector 80', 'sector 81', 'sector 82',\n",
      "       'sector 82a', 'sector 83', 'sector 84', 'sector 85', 'sector 86',\n",
      "       'sector 88a', 'sector 88b', 'sector 89', 'sector 9', 'sector 90',\n",
      "       'sector 91', 'sector 92', 'sector 93', 'sector 95', 'sector 99',\n",
      "       'sector 99a', 'sector 9a', 'sector-11 sohna road',\n",
      "       'sector-2 sohna road', 'sector-35 sohna road',\n",
      "       'sector-5 sohna road', 'sector-7 hous', 'shankar vihar',\n",
      "       'shanti nagar', 'sohna road', 'sohna road road', 'sultanpur',\n",
      "       'sushant lok'], dtype=object)]\n",
      "[array(['0', '1', '2', '3', '3+'], dtype=object)]\n",
      "[array(['Moderately Old', 'New Property', 'Old Property', 'Relatively New',\n",
      "       'Under Construction'], dtype=object)]\n",
      "[array(['High', 'Low', 'Medium'], dtype=object)]\n",
      "[array(['High Floor', 'Low Floor', 'Mid Floor'], dtype=object)]\n"
     ]
    }
   ],
   "source": [
    "from sklearn.preprocessing import OrdinalEncoder\n",
    "\n",
    "# Create a copy of the original data for label encoding\n",
    "data_label_encoded = train_df.copy()\n",
    "\n",
    "categorical_cols = train_df.select_dtypes(include=['object']).columns\n",
    "\n",
    "# Apply label encoding to categorical columns\n",
    "for col in categorical_cols:\n",
    "    oe = OrdinalEncoder()\n",
    "    data_label_encoded[col] = oe.fit_transform(data_label_encoded[[col]])\n",
    "    print(oe.categories_)\n",
    "\n",
    "# Splitting the dataset into training and testing sets\n",
    "X_label = data_label_encoded.drop('price', axis=1)\n",
    "y_label = data_label_encoded['price']"
   ]
  },
  {
   "cell_type": "markdown",
   "metadata": {},
   "source": [
    "Comment: X_lable is X now\n",
    "        Y_lable is Y now"
   ]
  },
  {
   "cell_type": "code",
   "execution_count": 200,
   "metadata": {},
   "outputs": [
    {
     "data": {
      "text/html": [
       "<div>\n",
       "<style scoped>\n",
       "    .dataframe tbody tr th:only-of-type {\n",
       "        vertical-align: middle;\n",
       "    }\n",
       "\n",
       "    .dataframe tbody tr th {\n",
       "        vertical-align: top;\n",
       "    }\n",
       "\n",
       "    .dataframe thead th {\n",
       "        text-align: right;\n",
       "    }\n",
       "</style>\n",
       "<table border=\"1\" class=\"dataframe\">\n",
       "  <thead>\n",
       "    <tr style=\"text-align: right;\">\n",
       "      <th></th>\n",
       "      <th>sector</th>\n",
       "      <th>built_up_area</th>\n",
       "      <th>bedRoom</th>\n",
       "      <th>bathroom</th>\n",
       "      <th>balcony</th>\n",
       "      <th>extra_rooms</th>\n",
       "      <th>agePossession</th>\n",
       "      <th>furnishing_type</th>\n",
       "      <th>luxury_category</th>\n",
       "      <th>floor_category</th>\n",
       "    </tr>\n",
       "  </thead>\n",
       "  <tbody>\n",
       "    <tr>\n",
       "      <th>0</th>\n",
       "      <td>96.0</td>\n",
       "      <td>1000.0</td>\n",
       "      <td>2</td>\n",
       "      <td>2</td>\n",
       "      <td>1.0</td>\n",
       "      <td>0</td>\n",
       "      <td>3.0</td>\n",
       "      <td>0</td>\n",
       "      <td>1.0</td>\n",
       "      <td>2.0</td>\n",
       "    </tr>\n",
       "    <tr>\n",
       "      <th>1</th>\n",
       "      <td>52.0</td>\n",
       "      <td>722.0</td>\n",
       "      <td>2</td>\n",
       "      <td>2</td>\n",
       "      <td>1.0</td>\n",
       "      <td>0</td>\n",
       "      <td>2.0</td>\n",
       "      <td>2</td>\n",
       "      <td>1.0</td>\n",
       "      <td>1.0</td>\n",
       "    </tr>\n",
       "    <tr>\n",
       "      <th>2</th>\n",
       "      <td>134.0</td>\n",
       "      <td>661.0</td>\n",
       "      <td>2</td>\n",
       "      <td>2</td>\n",
       "      <td>3.0</td>\n",
       "      <td>0</td>\n",
       "      <td>1.0</td>\n",
       "      <td>0</td>\n",
       "      <td>1.0</td>\n",
       "      <td>0.0</td>\n",
       "    </tr>\n",
       "    <tr>\n",
       "      <th>3</th>\n",
       "      <td>86.0</td>\n",
       "      <td>1333.0</td>\n",
       "      <td>2</td>\n",
       "      <td>2</td>\n",
       "      <td>2.0</td>\n",
       "      <td>1</td>\n",
       "      <td>4.0</td>\n",
       "      <td>0</td>\n",
       "      <td>2.0</td>\n",
       "      <td>1.0</td>\n",
       "    </tr>\n",
       "    <tr>\n",
       "      <th>4</th>\n",
       "      <td>121.0</td>\n",
       "      <td>1217.0</td>\n",
       "      <td>2</td>\n",
       "      <td>2</td>\n",
       "      <td>3.0</td>\n",
       "      <td>1</td>\n",
       "      <td>4.0</td>\n",
       "      <td>0</td>\n",
       "      <td>1.0</td>\n",
       "      <td>2.0</td>\n",
       "    </tr>\n",
       "    <tr>\n",
       "      <th>...</th>\n",
       "      <td>...</td>\n",
       "      <td>...</td>\n",
       "      <td>...</td>\n",
       "      <td>...</td>\n",
       "      <td>...</td>\n",
       "      <td>...</td>\n",
       "      <td>...</td>\n",
       "      <td>...</td>\n",
       "      <td>...</td>\n",
       "      <td>...</td>\n",
       "    </tr>\n",
       "    <tr>\n",
       "      <th>2827</th>\n",
       "      <td>114.0</td>\n",
       "      <td>1715.0</td>\n",
       "      <td>3</td>\n",
       "      <td>3</td>\n",
       "      <td>3.0</td>\n",
       "      <td>1</td>\n",
       "      <td>4.0</td>\n",
       "      <td>0</td>\n",
       "      <td>1.0</td>\n",
       "      <td>2.0</td>\n",
       "    </tr>\n",
       "    <tr>\n",
       "      <th>2828</th>\n",
       "      <td>70.0</td>\n",
       "      <td>3305.0</td>\n",
       "      <td>5</td>\n",
       "      <td>5</td>\n",
       "      <td>4.0</td>\n",
       "      <td>1</td>\n",
       "      <td>2.0</td>\n",
       "      <td>0</td>\n",
       "      <td>2.0</td>\n",
       "      <td>2.0</td>\n",
       "    </tr>\n",
       "    <tr>\n",
       "      <th>2829</th>\n",
       "      <td>33.0</td>\n",
       "      <td>1649.0</td>\n",
       "      <td>3</td>\n",
       "      <td>3</td>\n",
       "      <td>3.0</td>\n",
       "      <td>1</td>\n",
       "      <td>3.0</td>\n",
       "      <td>0</td>\n",
       "      <td>2.0</td>\n",
       "      <td>2.0</td>\n",
       "    </tr>\n",
       "    <tr>\n",
       "      <th>2830</th>\n",
       "      <td>49.0</td>\n",
       "      <td>3700.0</td>\n",
       "      <td>3</td>\n",
       "      <td>4</td>\n",
       "      <td>4.0</td>\n",
       "      <td>4</td>\n",
       "      <td>2.0</td>\n",
       "      <td>1</td>\n",
       "      <td>2.0</td>\n",
       "      <td>2.0</td>\n",
       "    </tr>\n",
       "    <tr>\n",
       "      <th>2831</th>\n",
       "      <td>78.0</td>\n",
       "      <td>2826.0</td>\n",
       "      <td>4</td>\n",
       "      <td>6</td>\n",
       "      <td>3.0</td>\n",
       "      <td>1</td>\n",
       "      <td>3.0</td>\n",
       "      <td>1</td>\n",
       "      <td>2.0</td>\n",
       "      <td>2.0</td>\n",
       "    </tr>\n",
       "  </tbody>\n",
       "</table>\n",
       "<p>2832 rows × 10 columns</p>\n",
       "</div>"
      ],
      "text/plain": [
       "      sector  built_up_area  bedRoom  bathroom  balcony  extra_rooms  \\\n",
       "0       96.0         1000.0        2         2      1.0            0   \n",
       "1       52.0          722.0        2         2      1.0            0   \n",
       "2      134.0          661.0        2         2      3.0            0   \n",
       "3       86.0         1333.0        2         2      2.0            1   \n",
       "4      121.0         1217.0        2         2      3.0            1   \n",
       "...      ...            ...      ...       ...      ...          ...   \n",
       "2827   114.0         1715.0        3         3      3.0            1   \n",
       "2828    70.0         3305.0        5         5      4.0            1   \n",
       "2829    33.0         1649.0        3         3      3.0            1   \n",
       "2830    49.0         3700.0        3         4      4.0            4   \n",
       "2831    78.0         2826.0        4         6      3.0            1   \n",
       "\n",
       "      agePossession  furnishing_type  luxury_category  floor_category  \n",
       "0               3.0                0              1.0             2.0  \n",
       "1               2.0                2              1.0             1.0  \n",
       "2               1.0                0              1.0             0.0  \n",
       "3               4.0                0              2.0             1.0  \n",
       "4               4.0                0              1.0             2.0  \n",
       "...             ...              ...              ...             ...  \n",
       "2827            4.0                0              1.0             2.0  \n",
       "2828            2.0                0              2.0             2.0  \n",
       "2829            3.0                0              2.0             2.0  \n",
       "2830            2.0                1              2.0             2.0  \n",
       "2831            3.0                1              2.0             2.0  \n",
       "\n",
       "[2832 rows x 10 columns]"
      ]
     },
     "execution_count": 200,
     "metadata": {},
     "output_type": "execute_result"
    }
   ],
   "source": [
    "X_label"
   ]
  },
  {
   "cell_type": "code",
   "execution_count": 201,
   "metadata": {},
   "outputs": [
    {
     "data": {
      "text/plain": [
       "0        0.45\n",
       "1        0.50\n",
       "2        0.40\n",
       "3        1.47\n",
       "4        0.70\n",
       "        ...  \n",
       "2827     1.05\n",
       "2828     3.30\n",
       "2829     0.95\n",
       "2830     5.80\n",
       "2831    11.00\n",
       "Name: price, Length: 2832, dtype: float64"
      ]
     },
     "execution_count": 201,
     "metadata": {},
     "output_type": "execute_result"
    }
   ],
   "source": [
    "y_label"
   ]
  },
  {
   "cell_type": "markdown",
   "metadata": {},
   "source": [
    "Technique 1 - Correlation Analysis"
   ]
  },
  {
   "cell_type": "code",
   "execution_count": 202,
   "metadata": {},
   "outputs": [
    {
     "data": {
      "text/plain": [
       "<Axes: >"
      ]
     },
     "execution_count": 202,
     "metadata": {},
     "output_type": "execute_result"
    },
    {
     "data": {
      "image/png": "[encoded data removed]",
      "text/plain": [
       "<Figure size 640x480 with 2 Axes>"
      ]
     },
     "metadata": {},
     "output_type": "display_data"
    }
   ],
   "source": [
    "sns.heatmap(data_label_encoded.corr())"
   ]
  },
  {
   "cell_type": "code",
   "execution_count": 203,
   "metadata": {},
   "outputs": [
    {
     "data": {
      "text/html": [
       "<div>\n",
       "<style scoped>\n",
       "    .dataframe tbody tr th:only-of-type {\n",
       "        vertical-align: middle;\n",
       "    }\n",
       "\n",
       "    .dataframe tbody tr th {\n",
       "        vertical-align: top;\n",
       "    }\n",
       "\n",
       "    .dataframe thead th {\n",
       "        text-align: right;\n",
       "    }\n",
       "</style>\n",
       "<table border=\"1\" class=\"dataframe\">\n",
       "  <thead>\n",
       "    <tr style=\"text-align: right;\">\n",
       "      <th></th>\n",
       "      <th>feature</th>\n",
       "      <th>corr_coeff</th>\n",
       "    </tr>\n",
       "  </thead>\n",
       "  <tbody>\n",
       "    <tr>\n",
       "      <th>0</th>\n",
       "      <td>sector</td>\n",
       "      <td>-0.175522</td>\n",
       "    </tr>\n",
       "    <tr>\n",
       "      <th>1</th>\n",
       "      <td>built_up_area</td>\n",
       "      <td>0.779559</td>\n",
       "    </tr>\n",
       "    <tr>\n",
       "      <th>2</th>\n",
       "      <td>bedRoom</td>\n",
       "      <td>0.559427</td>\n",
       "    </tr>\n",
       "    <tr>\n",
       "      <th>3</th>\n",
       "      <td>bathroom</td>\n",
       "      <td>0.597106</td>\n",
       "    </tr>\n",
       "    <tr>\n",
       "      <th>4</th>\n",
       "      <td>balcony</td>\n",
       "      <td>0.352268</td>\n",
       "    </tr>\n",
       "    <tr>\n",
       "      <th>5</th>\n",
       "      <td>extra_rooms</td>\n",
       "      <td>0.332466</td>\n",
       "    </tr>\n",
       "    <tr>\n",
       "      <th>6</th>\n",
       "      <td>agePossession</td>\n",
       "      <td>-0.057609</td>\n",
       "    </tr>\n",
       "    <tr>\n",
       "      <th>7</th>\n",
       "      <td>furnishing_type</td>\n",
       "      <td>0.189357</td>\n",
       "    </tr>\n",
       "    <tr>\n",
       "      <th>8</th>\n",
       "      <td>luxury_category</td>\n",
       "      <td>-0.095842</td>\n",
       "    </tr>\n",
       "    <tr>\n",
       "      <th>9</th>\n",
       "      <td>floor_category</td>\n",
       "      <td>-0.108764</td>\n",
       "    </tr>\n",
       "  </tbody>\n",
       "</table>\n",
       "</div>"
      ],
      "text/plain": [
       "           feature  corr_coeff\n",
       "0           sector   -0.175522\n",
       "1    built_up_area    0.779559\n",
       "2          bedRoom    0.559427\n",
       "3         bathroom    0.597106\n",
       "4          balcony    0.352268\n",
       "5      extra_rooms    0.332466\n",
       "6    agePossession   -0.057609\n",
       "7  furnishing_type    0.189357\n",
       "8  luxury_category   -0.095842\n",
       "9   floor_category   -0.108764"
      ]
     },
     "execution_count": 203,
     "metadata": {},
     "output_type": "execute_result"
    }
   ],
   "source": [
    "fi_df1 = data_label_encoded.corr()['price'].iloc[1:].to_frame().reset_index().rename(columns={'index':'feature','price':'corr_coeff'})\n",
    "fi_df1"
   ]
  },
  {
   "cell_type": "markdown",
   "metadata": {},
   "source": [
    "Technique 2 - Random Forest Feature Importance"
   ]
  },
  {
   "cell_type": "code",
   "execution_count": 204,
   "metadata": {},
   "outputs": [
    {
     "data": {
      "text/html": [
       "<div>\n",
       "<style scoped>\n",
       "    .dataframe tbody tr th:only-of-type {\n",
       "        vertical-align: middle;\n",
       "    }\n",
       "\n",
       "    .dataframe tbody tr th {\n",
       "        vertical-align: top;\n",
       "    }\n",
       "\n",
       "    .dataframe thead th {\n",
       "        text-align: right;\n",
       "    }\n",
       "</style>\n",
       "<table border=\"1\" class=\"dataframe\">\n",
       "  <thead>\n",
       "    <tr style=\"text-align: right;\">\n",
       "      <th></th>\n",
       "      <th>feature</th>\n",
       "      <th>rf_importance</th>\n",
       "    </tr>\n",
       "  </thead>\n",
       "  <tbody>\n",
       "    <tr>\n",
       "      <th>1</th>\n",
       "      <td>built_up_area</td>\n",
       "      <td>0.693263</td>\n",
       "    </tr>\n",
       "    <tr>\n",
       "      <th>0</th>\n",
       "      <td>sector</td>\n",
       "      <td>0.185018</td>\n",
       "    </tr>\n",
       "    <tr>\n",
       "      <th>3</th>\n",
       "      <td>bathroom</td>\n",
       "      <td>0.022809</td>\n",
       "    </tr>\n",
       "    <tr>\n",
       "      <th>4</th>\n",
       "      <td>balcony</td>\n",
       "      <td>0.020650</td>\n",
       "    </tr>\n",
       "    <tr>\n",
       "      <th>6</th>\n",
       "      <td>agePossession</td>\n",
       "      <td>0.016296</td>\n",
       "    </tr>\n",
       "    <tr>\n",
       "      <th>2</th>\n",
       "      <td>bedRoom</td>\n",
       "      <td>0.014426</td>\n",
       "    </tr>\n",
       "    <tr>\n",
       "      <th>9</th>\n",
       "      <td>floor_category</td>\n",
       "      <td>0.013043</td>\n",
       "    </tr>\n",
       "    <tr>\n",
       "      <th>5</th>\n",
       "      <td>extra_rooms</td>\n",
       "      <td>0.012685</td>\n",
       "    </tr>\n",
       "    <tr>\n",
       "      <th>8</th>\n",
       "      <td>luxury_category</td>\n",
       "      <td>0.011272</td>\n",
       "    </tr>\n",
       "    <tr>\n",
       "      <th>7</th>\n",
       "      <td>furnishing_type</td>\n",
       "      <td>0.010538</td>\n",
       "    </tr>\n",
       "  </tbody>\n",
       "</table>\n",
       "</div>"
      ],
      "text/plain": [
       "           feature  rf_importance\n",
       "1    built_up_area       0.693263\n",
       "0           sector       0.185018\n",
       "3         bathroom       0.022809\n",
       "4          balcony       0.020650\n",
       "6    agePossession       0.016296\n",
       "2          bedRoom       0.014426\n",
       "9   floor_category       0.013043\n",
       "5      extra_rooms       0.012685\n",
       "8  luxury_category       0.011272\n",
       "7  furnishing_type       0.010538"
      ]
     },
     "execution_count": 204,
     "metadata": {},
     "output_type": "execute_result"
    }
   ],
   "source": [
    "from sklearn.ensemble import RandomForestRegressor\n",
    "\n",
    "# Train a Random Forest regressor on label encoded data\n",
    "rf_label = RandomForestRegressor(n_estimators=100, random_state=42)\n",
    "rf_label.fit(X_label, y_label)\n",
    "\n",
    "# Extract feature importance scores for label encoded data\n",
    "fi_df2 = pd.DataFrame({\n",
    "    'feature': X_label.columns,\n",
    "    'rf_importance': rf_label.feature_importances_\n",
    "}).sort_values(by='rf_importance', ascending=False)\n",
    "\n",
    "fi_df2"
   ]
  },
  {
   "cell_type": "markdown",
   "metadata": {},
   "source": [
    "Technique 3 - Gradient Boosting Feature importances"
   ]
  },
  {
   "cell_type": "code",
   "execution_count": 205,
   "metadata": {},
   "outputs": [
    {
     "data": {
      "text/html": [
       "<div>\n",
       "<style scoped>\n",
       "    .dataframe tbody tr th:only-of-type {\n",
       "        vertical-align: middle;\n",
       "    }\n",
       "\n",
       "    .dataframe tbody tr th {\n",
       "        vertical-align: top;\n",
       "    }\n",
       "\n",
       "    .dataframe thead th {\n",
       "        text-align: right;\n",
       "    }\n",
       "</style>\n",
       "<table border=\"1\" class=\"dataframe\">\n",
       "  <thead>\n",
       "    <tr style=\"text-align: right;\">\n",
       "      <th></th>\n",
       "      <th>feature</th>\n",
       "      <th>gb_importance</th>\n",
       "    </tr>\n",
       "  </thead>\n",
       "  <tbody>\n",
       "    <tr>\n",
       "      <th>1</th>\n",
       "      <td>built_up_area</td>\n",
       "      <td>0.722316</td>\n",
       "    </tr>\n",
       "    <tr>\n",
       "      <th>0</th>\n",
       "      <td>sector</td>\n",
       "      <td>0.202897</td>\n",
       "    </tr>\n",
       "    <tr>\n",
       "      <th>3</th>\n",
       "      <td>bathroom</td>\n",
       "      <td>0.041987</td>\n",
       "    </tr>\n",
       "    <tr>\n",
       "      <th>7</th>\n",
       "      <td>furnishing_type</td>\n",
       "      <td>0.008426</td>\n",
       "    </tr>\n",
       "    <tr>\n",
       "      <th>2</th>\n",
       "      <td>bedRoom</td>\n",
       "      <td>0.007775</td>\n",
       "    </tr>\n",
       "    <tr>\n",
       "      <th>4</th>\n",
       "      <td>balcony</td>\n",
       "      <td>0.004070</td>\n",
       "    </tr>\n",
       "    <tr>\n",
       "      <th>6</th>\n",
       "      <td>agePossession</td>\n",
       "      <td>0.003784</td>\n",
       "    </tr>\n",
       "    <tr>\n",
       "      <th>9</th>\n",
       "      <td>floor_category</td>\n",
       "      <td>0.003546</td>\n",
       "    </tr>\n",
       "    <tr>\n",
       "      <th>5</th>\n",
       "      <td>extra_rooms</td>\n",
       "      <td>0.002699</td>\n",
       "    </tr>\n",
       "    <tr>\n",
       "      <th>8</th>\n",
       "      <td>luxury_category</td>\n",
       "      <td>0.002501</td>\n",
       "    </tr>\n",
       "  </tbody>\n",
       "</table>\n",
       "</div>"
      ],
      "text/plain": [
       "           feature  gb_importance\n",
       "1    built_up_area       0.722316\n",
       "0           sector       0.202897\n",
       "3         bathroom       0.041987\n",
       "7  furnishing_type       0.008426\n",
       "2          bedRoom       0.007775\n",
       "4          balcony       0.004070\n",
       "6    agePossession       0.003784\n",
       "9   floor_category       0.003546\n",
       "5      extra_rooms       0.002699\n",
       "8  luxury_category       0.002501"
      ]
     },
     "execution_count": 205,
     "metadata": {},
     "output_type": "execute_result"
    }
   ],
   "source": [
    "from sklearn.ensemble import GradientBoostingRegressor\n",
    "\n",
    "# Train a Random Forest regressor on label encoded data\n",
    "gb_label = GradientBoostingRegressor()\n",
    "gb_label.fit(X_label, y_label)\n",
    "\n",
    "# Extract feature importance scores for label encoded data\n",
    "fi_df3 = pd.DataFrame({\n",
    "    'feature': X_label.columns,\n",
    "    'gb_importance': gb_label.feature_importances_\n",
    "}).sort_values(by='gb_importance', ascending=False)\n",
    "\n",
    "fi_df3"
   ]
  },
  {
   "cell_type": "markdown",
   "metadata": {},
   "source": [
    "Technique 4 - Permutation Importance"
   ]
  },
  {
   "cell_type": "code",
   "execution_count": 206,
   "metadata": {},
   "outputs": [
    {
     "data": {
      "text/html": [
       "<div>\n",
       "<style scoped>\n",
       "    .dataframe tbody tr th:only-of-type {\n",
       "        vertical-align: middle;\n",
       "    }\n",
       "\n",
       "    .dataframe tbody tr th {\n",
       "        vertical-align: top;\n",
       "    }\n",
       "\n",
       "    .dataframe thead th {\n",
       "        text-align: right;\n",
       "    }\n",
       "</style>\n",
       "<table border=\"1\" class=\"dataframe\">\n",
       "  <thead>\n",
       "    <tr style=\"text-align: right;\">\n",
       "      <th></th>\n",
       "      <th>feature</th>\n",
       "      <th>permutation_importance</th>\n",
       "    </tr>\n",
       "  </thead>\n",
       "  <tbody>\n",
       "    <tr>\n",
       "      <th>1</th>\n",
       "      <td>built_up_area</td>\n",
       "      <td>0.874848</td>\n",
       "    </tr>\n",
       "    <tr>\n",
       "      <th>0</th>\n",
       "      <td>sector</td>\n",
       "      <td>0.304765</td>\n",
       "    </tr>\n",
       "    <tr>\n",
       "      <th>3</th>\n",
       "      <td>bathroom</td>\n",
       "      <td>0.022597</td>\n",
       "    </tr>\n",
       "    <tr>\n",
       "      <th>7</th>\n",
       "      <td>furnishing_type</td>\n",
       "      <td>0.008874</td>\n",
       "    </tr>\n",
       "    <tr>\n",
       "      <th>2</th>\n",
       "      <td>bedRoom</td>\n",
       "      <td>0.008403</td>\n",
       "    </tr>\n",
       "    <tr>\n",
       "      <th>6</th>\n",
       "      <td>agePossession</td>\n",
       "      <td>0.006377</td>\n",
       "    </tr>\n",
       "    <tr>\n",
       "      <th>8</th>\n",
       "      <td>luxury_category</td>\n",
       "      <td>0.004987</td>\n",
       "    </tr>\n",
       "    <tr>\n",
       "      <th>4</th>\n",
       "      <td>balcony</td>\n",
       "      <td>0.002444</td>\n",
       "    </tr>\n",
       "    <tr>\n",
       "      <th>9</th>\n",
       "      <td>floor_category</td>\n",
       "      <td>-0.000068</td>\n",
       "    </tr>\n",
       "    <tr>\n",
       "      <th>5</th>\n",
       "      <td>extra_rooms</td>\n",
       "      <td>-0.002566</td>\n",
       "    </tr>\n",
       "  </tbody>\n",
       "</table>\n",
       "</div>"
      ],
      "text/plain": [
       "           feature  permutation_importance\n",
       "1    built_up_area                0.874848\n",
       "0           sector                0.304765\n",
       "3         bathroom                0.022597\n",
       "7  furnishing_type                0.008874\n",
       "2          bedRoom                0.008403\n",
       "6    agePossession                0.006377\n",
       "8  luxury_category                0.004987\n",
       "4          balcony                0.002444\n",
       "9   floor_category               -0.000068\n",
       "5      extra_rooms               -0.002566"
      ]
     },
     "execution_count": 206,
     "metadata": {},
     "output_type": "execute_result"
    }
   ],
   "source": [
    "from sklearn.inspection import permutation_importance\n",
    "from sklearn.model_selection import train_test_split\n",
    "\n",
    "X_train_label, X_test_label, y_train_label, y_test_label = train_test_split(X_label, y_label, test_size=0.2, random_state=42)\n",
    "\n",
    "# Train a Random Forest regressor on label encoded data\n",
    "rf_label = RandomForestRegressor(n_estimators=100, random_state=42)\n",
    "rf_label.fit(X_train_label, y_train_label)\n",
    "\n",
    "# Calculate Permutation Importance\n",
    "perm_importance = permutation_importance(rf_label, X_test_label, y_test_label, n_repeats=30, random_state=42)\n",
    "\n",
    "# Organize results into a DataFrame\n",
    "fi_df4 = pd.DataFrame({\n",
    "    'feature': X_label.columns,\n",
    "    'permutation_importance': perm_importance.importances_mean\n",
    "}).sort_values(by='permutation_importance', ascending=False)\n",
    "\n",
    "fi_df4"
   ]
  },
  {
   "cell_type": "markdown",
   "metadata": {},
   "source": [
    "Technique 5 - LASSO"
   ]
  },
  {
   "cell_type": "code",
   "execution_count": 207,
   "metadata": {},
   "outputs": [
    {
     "data": {
      "text/html": [
       "<div>\n",
       "<style scoped>\n",
       "    .dataframe tbody tr th:only-of-type {\n",
       "        vertical-align: middle;\n",
       "    }\n",
       "\n",
       "    .dataframe tbody tr th {\n",
       "        vertical-align: top;\n",
       "    }\n",
       "\n",
       "    .dataframe thead th {\n",
       "        text-align: right;\n",
       "    }\n",
       "</style>\n",
       "<table border=\"1\" class=\"dataframe\">\n",
       "  <thead>\n",
       "    <tr style=\"text-align: right;\">\n",
       "      <th></th>\n",
       "      <th>feature</th>\n",
       "      <th>lasso_coeff</th>\n",
       "    </tr>\n",
       "  </thead>\n",
       "  <tbody>\n",
       "    <tr>\n",
       "      <th>1</th>\n",
       "      <td>built_up_area</td>\n",
       "      <td>0.950211</td>\n",
       "    </tr>\n",
       "    <tr>\n",
       "      <th>3</th>\n",
       "      <td>bathroom</td>\n",
       "      <td>0.173176</td>\n",
       "    </tr>\n",
       "    <tr>\n",
       "      <th>7</th>\n",
       "      <td>furnishing_type</td>\n",
       "      <td>0.087359</td>\n",
       "    </tr>\n",
       "    <tr>\n",
       "      <th>5</th>\n",
       "      <td>extra_rooms</td>\n",
       "      <td>0.029493</td>\n",
       "    </tr>\n",
       "    <tr>\n",
       "      <th>6</th>\n",
       "      <td>agePossession</td>\n",
       "      <td>0.000000</td>\n",
       "    </tr>\n",
       "    <tr>\n",
       "      <th>4</th>\n",
       "      <td>balcony</td>\n",
       "      <td>-0.012116</td>\n",
       "    </tr>\n",
       "    <tr>\n",
       "      <th>8</th>\n",
       "      <td>luxury_category</td>\n",
       "      <td>-0.039427</td>\n",
       "    </tr>\n",
       "    <tr>\n",
       "      <th>9</th>\n",
       "      <td>floor_category</td>\n",
       "      <td>-0.057369</td>\n",
       "    </tr>\n",
       "    <tr>\n",
       "      <th>0</th>\n",
       "      <td>sector</td>\n",
       "      <td>-0.059451</td>\n",
       "    </tr>\n",
       "    <tr>\n",
       "      <th>2</th>\n",
       "      <td>bedRoom</td>\n",
       "      <td>-0.073008</td>\n",
       "    </tr>\n",
       "  </tbody>\n",
       "</table>\n",
       "</div>"
      ],
      "text/plain": [
       "           feature  lasso_coeff\n",
       "1    built_up_area     0.950211\n",
       "3         bathroom     0.173176\n",
       "7  furnishing_type     0.087359\n",
       "5      extra_rooms     0.029493\n",
       "6    agePossession     0.000000\n",
       "4          balcony    -0.012116\n",
       "8  luxury_category    -0.039427\n",
       "9   floor_category    -0.057369\n",
       "0           sector    -0.059451\n",
       "2          bedRoom    -0.073008"
      ]
     },
     "execution_count": 207,
     "metadata": {},
     "output_type": "execute_result"
    }
   ],
   "source": [
    "from sklearn.linear_model import Lasso\n",
    "from sklearn.preprocessing import StandardScaler\n",
    "\n",
    "# Standardize the features\n",
    "scaler = StandardScaler()\n",
    "X_scaled = scaler.fit_transform(X_label)\n",
    "\n",
    "# Train a LASSO regression model\n",
    "# We'll use a relatively small value for alpha (the regularization strength) for demonstration purposes\n",
    "lasso = Lasso(alpha=0.01, random_state=42)\n",
    "lasso.fit(X_scaled, y_label)\n",
    "\n",
    "# Extract coefficients\n",
    "fi_df5 = pd.DataFrame({\n",
    "    'feature': X_label.columns,\n",
    "    'lasso_coeff': lasso.coef_\n",
    "}).sort_values(by='lasso_coeff', ascending=False)\n",
    "\n",
    "fi_df5"
   ]
  },
  {
   "cell_type": "markdown",
   "metadata": {},
   "source": [
    "Technique 6 - RFE"
   ]
  },
  {
   "cell_type": "code",
   "execution_count": 208,
   "metadata": {},
   "outputs": [
    {
     "data": {
      "text/html": [
       "<div>\n",
       "<style scoped>\n",
       "    .dataframe tbody tr th:only-of-type {\n",
       "        vertical-align: middle;\n",
       "    }\n",
       "\n",
       "    .dataframe tbody tr th {\n",
       "        vertical-align: top;\n",
       "    }\n",
       "\n",
       "    .dataframe thead th {\n",
       "        text-align: right;\n",
       "    }\n",
       "</style>\n",
       "<table border=\"1\" class=\"dataframe\">\n",
       "  <thead>\n",
       "    <tr style=\"text-align: right;\">\n",
       "      <th></th>\n",
       "      <th>feature</th>\n",
       "      <th>rfe_score</th>\n",
       "    </tr>\n",
       "  </thead>\n",
       "  <tbody>\n",
       "    <tr>\n",
       "      <th>1</th>\n",
       "      <td>built_up_area</td>\n",
       "      <td>0.691555</td>\n",
       "    </tr>\n",
       "    <tr>\n",
       "      <th>0</th>\n",
       "      <td>sector</td>\n",
       "      <td>0.190238</td>\n",
       "    </tr>\n",
       "    <tr>\n",
       "      <th>3</th>\n",
       "      <td>bathroom</td>\n",
       "      <td>0.022142</td>\n",
       "    </tr>\n",
       "    <tr>\n",
       "      <th>4</th>\n",
       "      <td>balcony</td>\n",
       "      <td>0.020017</td>\n",
       "    </tr>\n",
       "    <tr>\n",
       "      <th>6</th>\n",
       "      <td>agePossession</td>\n",
       "      <td>0.016562</td>\n",
       "    </tr>\n",
       "    <tr>\n",
       "      <th>9</th>\n",
       "      <td>floor_category</td>\n",
       "      <td>0.013442</td>\n",
       "    </tr>\n",
       "    <tr>\n",
       "      <th>5</th>\n",
       "      <td>extra_rooms</td>\n",
       "      <td>0.012846</td>\n",
       "    </tr>\n",
       "    <tr>\n",
       "      <th>2</th>\n",
       "      <td>bedRoom</td>\n",
       "      <td>0.012036</td>\n",
       "    </tr>\n",
       "    <tr>\n",
       "      <th>8</th>\n",
       "      <td>luxury_category</td>\n",
       "      <td>0.010831</td>\n",
       "    </tr>\n",
       "    <tr>\n",
       "      <th>7</th>\n",
       "      <td>furnishing_type</td>\n",
       "      <td>0.010333</td>\n",
       "    </tr>\n",
       "  </tbody>\n",
       "</table>\n",
       "</div>"
      ],
      "text/plain": [
       "           feature  rfe_score\n",
       "1    built_up_area   0.691555\n",
       "0           sector   0.190238\n",
       "3         bathroom   0.022142\n",
       "4          balcony   0.020017\n",
       "6    agePossession   0.016562\n",
       "9   floor_category   0.013442\n",
       "5      extra_rooms   0.012846\n",
       "2          bedRoom   0.012036\n",
       "8  luxury_category   0.010831\n",
       "7  furnishing_type   0.010333"
      ]
     },
     "execution_count": 208,
     "metadata": {},
     "output_type": "execute_result"
    }
   ],
   "source": [
    "from sklearn.feature_selection import RFE\n",
    "\n",
    "# Initialize the base estimator\n",
    "estimator = RandomForestRegressor()\n",
    "\n",
    "# Apply RFE on the label-encoded and standardized training data\n",
    "selector_label = RFE(estimator, n_features_to_select=X_label.shape[1], step=1)\n",
    "selector_label = selector_label.fit(X_label, y_label)\n",
    "\n",
    "# Get the selected features based on RFE\n",
    "selected_features = X_label.columns[selector_label.support_]\n",
    "\n",
    "# Extract the coefficients for the selected features from the underlying linear regression model\n",
    "selected_coefficients = selector_label.estimator_.feature_importances_\n",
    "\n",
    "# Organize the results into a DataFrame\n",
    "fi_df6 = pd.DataFrame({\n",
    "    'feature': selected_features,\n",
    "    'rfe_score': selected_coefficients\n",
    "}).sort_values(by='rfe_score', ascending=False)\n",
    "\n",
    "fi_df6"
   ]
  },
  {
   "cell_type": "markdown",
   "metadata": {},
   "source": [
    "Technique 7 - Linear Regression Weights"
   ]
  },
  {
   "cell_type": "code",
   "execution_count": 209,
   "metadata": {},
   "outputs": [
    {
     "data": {
      "text/html": [
       "<div>\n",
       "<style scoped>\n",
       "    .dataframe tbody tr th:only-of-type {\n",
       "        vertical-align: middle;\n",
       "    }\n",
       "\n",
       "    .dataframe tbody tr th {\n",
       "        vertical-align: top;\n",
       "    }\n",
       "\n",
       "    .dataframe thead th {\n",
       "        text-align: right;\n",
       "    }\n",
       "</style>\n",
       "<table border=\"1\" class=\"dataframe\">\n",
       "  <thead>\n",
       "    <tr style=\"text-align: right;\">\n",
       "      <th></th>\n",
       "      <th>feature</th>\n",
       "      <th>reg_coeffs</th>\n",
       "    </tr>\n",
       "  </thead>\n",
       "  <tbody>\n",
       "    <tr>\n",
       "      <th>1</th>\n",
       "      <td>built_up_area</td>\n",
       "      <td>0.974867</td>\n",
       "    </tr>\n",
       "    <tr>\n",
       "      <th>3</th>\n",
       "      <td>bathroom</td>\n",
       "      <td>0.223839</td>\n",
       "    </tr>\n",
       "    <tr>\n",
       "      <th>7</th>\n",
       "      <td>furnishing_type</td>\n",
       "      <td>0.095786</td>\n",
       "    </tr>\n",
       "    <tr>\n",
       "      <th>5</th>\n",
       "      <td>extra_rooms</td>\n",
       "      <td>0.036651</td>\n",
       "    </tr>\n",
       "    <tr>\n",
       "      <th>6</th>\n",
       "      <td>agePossession</td>\n",
       "      <td>0.006965</td>\n",
       "    </tr>\n",
       "    <tr>\n",
       "      <th>4</th>\n",
       "      <td>balcony</td>\n",
       "      <td>-0.033214</td>\n",
       "    </tr>\n",
       "    <tr>\n",
       "      <th>8</th>\n",
       "      <td>luxury_category</td>\n",
       "      <td>-0.046025</td>\n",
       "    </tr>\n",
       "    <tr>\n",
       "      <th>9</th>\n",
       "      <td>floor_category</td>\n",
       "      <td>-0.066330</td>\n",
       "    </tr>\n",
       "    <tr>\n",
       "      <th>0</th>\n",
       "      <td>sector</td>\n",
       "      <td>-0.068125</td>\n",
       "    </tr>\n",
       "    <tr>\n",
       "      <th>2</th>\n",
       "      <td>bedRoom</td>\n",
       "      <td>-0.137909</td>\n",
       "    </tr>\n",
       "  </tbody>\n",
       "</table>\n",
       "</div>"
      ],
      "text/plain": [
       "           feature  reg_coeffs\n",
       "1    built_up_area    0.974867\n",
       "3         bathroom    0.223839\n",
       "7  furnishing_type    0.095786\n",
       "5      extra_rooms    0.036651\n",
       "6    agePossession    0.006965\n",
       "4          balcony   -0.033214\n",
       "8  luxury_category   -0.046025\n",
       "9   floor_category   -0.066330\n",
       "0           sector   -0.068125\n",
       "2          bedRoom   -0.137909"
      ]
     },
     "execution_count": 209,
     "metadata": {},
     "output_type": "execute_result"
    }
   ],
   "source": [
    "# Train a linear regression model on the label-encoded and standardized training data\n",
    "from sklearn.linear_model import LinearRegression\n",
    "lin_reg = LinearRegression()\n",
    "lin_reg.fit(X_scaled, y_label)\n",
    "\n",
    "# Extract coefficients\n",
    "fi_df7 = pd.DataFrame({\n",
    "    'feature': X_label.columns,\n",
    "    'reg_coeffs': lin_reg.coef_\n",
    "}).sort_values(by='reg_coeffs', ascending=False)\n",
    "\n",
    "fi_df7"
   ]
  },
  {
   "cell_type": "markdown",
   "metadata": {},
   "source": [
    "Technique 8 - SHAP"
   ]
  },
  {
   "cell_type": "code",
   "execution_count": 210,
   "metadata": {},
   "outputs": [
    {
     "data": {
      "text/plain": [
       "array([[ 0.02364935, -0.91550109, -0.03050859, ..., -0.00670847,\n",
       "        -0.00748019, -0.02342779],\n",
       "       [ 0.1351315 , -1.27338519, -0.03072731, ...,  0.02564215,\n",
       "        -0.01526476, -0.01865744],\n",
       "       [-0.28450009, -0.99383491, -0.02660119, ..., -0.00496688,\n",
       "        -0.00436216,  0.02285203],\n",
       "       ...,\n",
       "       [-0.25063418, -0.24417816,  0.0054627 , ..., -0.01996144,\n",
       "        -0.00600137, -0.06148779],\n",
       "       [ 0.36006302,  3.16002252, -0.06466444, ...,  0.00477905,\n",
       "         0.03198793,  0.0684269 ],\n",
       "       [ 2.22155133,  3.79403325,  0.05763066, ...,  0.08479715,\n",
       "        -0.04122449,  0.03412599]])"
      ]
     },
     "execution_count": 210,
     "metadata": {},
     "output_type": "execute_result"
    }
   ],
   "source": [
    "import shap\n",
    "\n",
    "# Compute SHAP values using the trained Random Forest model\n",
    "rf = RandomForestRegressor(n_estimators=100, random_state=42)\n",
    "rf.fit(X_label, y_label)\n",
    "\n",
    "explainer = shap.TreeExplainer(rf)\n",
    "shap_values = explainer.shap_values(X_label)\n",
    "\n",
    "# Summing the absolute SHAP values across all samples to get an overall measure of feature importance\n",
    "shap_sum = np.abs(shap_values).mean(axis=0)\n",
    "\n",
    "shap_values"
   ]
  },
  {
   "cell_type": "code",
   "execution_count": 211,
   "metadata": {},
   "outputs": [
    {
     "data": {
      "text/html": [
       "<div>\n",
       "<style scoped>\n",
       "    .dataframe tbody tr th:only-of-type {\n",
       "        vertical-align: middle;\n",
       "    }\n",
       "\n",
       "    .dataframe tbody tr th {\n",
       "        vertical-align: top;\n",
       "    }\n",
       "\n",
       "    .dataframe thead th {\n",
       "        text-align: right;\n",
       "    }\n",
       "</style>\n",
       "<table border=\"1\" class=\"dataframe\">\n",
       "  <thead>\n",
       "    <tr style=\"text-align: right;\">\n",
       "      <th></th>\n",
       "      <th>feature</th>\n",
       "      <th>SHAP_score</th>\n",
       "    </tr>\n",
       "  </thead>\n",
       "  <tbody>\n",
       "    <tr>\n",
       "      <th>1</th>\n",
       "      <td>built_up_area</td>\n",
       "      <td>0.659880</td>\n",
       "    </tr>\n",
       "    <tr>\n",
       "      <th>0</th>\n",
       "      <td>sector</td>\n",
       "      <td>0.325220</td>\n",
       "    </tr>\n",
       "    <tr>\n",
       "      <th>3</th>\n",
       "      <td>bathroom</td>\n",
       "      <td>0.048282</td>\n",
       "    </tr>\n",
       "    <tr>\n",
       "      <th>9</th>\n",
       "      <td>floor_category</td>\n",
       "      <td>0.032351</td>\n",
       "    </tr>\n",
       "    <tr>\n",
       "      <th>4</th>\n",
       "      <td>balcony</td>\n",
       "      <td>0.028674</td>\n",
       "    </tr>\n",
       "    <tr>\n",
       "      <th>2</th>\n",
       "      <td>bedRoom</td>\n",
       "      <td>0.026378</td>\n",
       "    </tr>\n",
       "    <tr>\n",
       "      <th>6</th>\n",
       "      <td>agePossession</td>\n",
       "      <td>0.021213</td>\n",
       "    </tr>\n",
       "    <tr>\n",
       "      <th>8</th>\n",
       "      <td>luxury_category</td>\n",
       "      <td>0.021026</td>\n",
       "    </tr>\n",
       "    <tr>\n",
       "      <th>7</th>\n",
       "      <td>furnishing_type</td>\n",
       "      <td>0.015973</td>\n",
       "    </tr>\n",
       "    <tr>\n",
       "      <th>5</th>\n",
       "      <td>extra_rooms</td>\n",
       "      <td>0.011964</td>\n",
       "    </tr>\n",
       "  </tbody>\n",
       "</table>\n",
       "</div>"
      ],
      "text/plain": [
       "           feature  SHAP_score\n",
       "1    built_up_area    0.659880\n",
       "0           sector    0.325220\n",
       "3         bathroom    0.048282\n",
       "9   floor_category    0.032351\n",
       "4          balcony    0.028674\n",
       "2          bedRoom    0.026378\n",
       "6    agePossession    0.021213\n",
       "8  luxury_category    0.021026\n",
       "7  furnishing_type    0.015973\n",
       "5      extra_rooms    0.011964"
      ]
     },
     "execution_count": 211,
     "metadata": {},
     "output_type": "execute_result"
    }
   ],
   "source": [
    "fi_df8 = pd.DataFrame({\n",
    "    'feature': X_label.columns,\n",
    "    'SHAP_score': np.abs(shap_values).mean(axis=0)\n",
    "}).sort_values(by='SHAP_score', ascending=False)\n",
    "\n",
    "fi_df8"
   ]
  },
  {
   "cell_type": "code",
   "execution_count": 212,
   "metadata": {},
   "outputs": [],
   "source": [
    "final_fi_df = fi_df1.merge(fi_df2,on='feature').merge(fi_df3,on='feature').merge(fi_df4,on='feature').merge(fi_df5,on='feature').merge(fi_df6,on='feature').merge(fi_df7,on='feature').merge(fi_df8,on='feature').set_index('feature')"
   ]
  },
  {
   "cell_type": "code",
   "execution_count": 213,
   "metadata": {},
   "outputs": [
    {
     "data": {
      "text/html": [
       "<div>\n",
       "<style scoped>\n",
       "    .dataframe tbody tr th:only-of-type {\n",
       "        vertical-align: middle;\n",
       "    }\n",
       "\n",
       "    .dataframe tbody tr th {\n",
       "        vertical-align: top;\n",
       "    }\n",
       "\n",
       "    .dataframe thead th {\n",
       "        text-align: right;\n",
       "    }\n",
       "</style>\n",
       "<table border=\"1\" class=\"dataframe\">\n",
       "  <thead>\n",
       "    <tr style=\"text-align: right;\">\n",
       "      <th></th>\n",
       "      <th>corr_coeff</th>\n",
       "      <th>rf_importance</th>\n",
       "      <th>gb_importance</th>\n",
       "      <th>permutation_importance</th>\n",
       "      <th>lasso_coeff</th>\n",
       "      <th>rfe_score</th>\n",
       "      <th>reg_coeffs</th>\n",
       "      <th>SHAP_score</th>\n",
       "    </tr>\n",
       "    <tr>\n",
       "      <th>feature</th>\n",
       "      <th></th>\n",
       "      <th></th>\n",
       "      <th></th>\n",
       "      <th></th>\n",
       "      <th></th>\n",
       "      <th></th>\n",
       "      <th></th>\n",
       "      <th></th>\n",
       "    </tr>\n",
       "  </thead>\n",
       "  <tbody>\n",
       "    <tr>\n",
       "      <th>sector</th>\n",
       "      <td>-0.175522</td>\n",
       "      <td>0.185018</td>\n",
       "      <td>0.202897</td>\n",
       "      <td>0.304765</td>\n",
       "      <td>-0.059451</td>\n",
       "      <td>0.190238</td>\n",
       "      <td>-0.068125</td>\n",
       "      <td>0.325220</td>\n",
       "    </tr>\n",
       "    <tr>\n",
       "      <th>built_up_area</th>\n",
       "      <td>0.779559</td>\n",
       "      <td>0.693263</td>\n",
       "      <td>0.722316</td>\n",
       "      <td>0.874848</td>\n",
       "      <td>0.950211</td>\n",
       "      <td>0.691555</td>\n",
       "      <td>0.974867</td>\n",
       "      <td>0.659880</td>\n",
       "    </tr>\n",
       "    <tr>\n",
       "      <th>bedRoom</th>\n",
       "      <td>0.559427</td>\n",
       "      <td>0.014426</td>\n",
       "      <td>0.007775</td>\n",
       "      <td>0.008403</td>\n",
       "      <td>-0.073008</td>\n",
       "      <td>0.012036</td>\n",
       "      <td>-0.137909</td>\n",
       "      <td>0.026378</td>\n",
       "    </tr>\n",
       "    <tr>\n",
       "      <th>bathroom</th>\n",
       "      <td>0.597106</td>\n",
       "      <td>0.022809</td>\n",
       "      <td>0.041987</td>\n",
       "      <td>0.022597</td>\n",
       "      <td>0.173176</td>\n",
       "      <td>0.022142</td>\n",
       "      <td>0.223839</td>\n",
       "      <td>0.048282</td>\n",
       "    </tr>\n",
       "    <tr>\n",
       "      <th>balcony</th>\n",
       "      <td>0.352268</td>\n",
       "      <td>0.020650</td>\n",
       "      <td>0.004070</td>\n",
       "      <td>0.002444</td>\n",
       "      <td>-0.012116</td>\n",
       "      <td>0.020017</td>\n",
       "      <td>-0.033214</td>\n",
       "      <td>0.028674</td>\n",
       "    </tr>\n",
       "    <tr>\n",
       "      <th>extra_rooms</th>\n",
       "      <td>0.332466</td>\n",
       "      <td>0.012685</td>\n",
       "      <td>0.002699</td>\n",
       "      <td>-0.002566</td>\n",
       "      <td>0.029493</td>\n",
       "      <td>0.012846</td>\n",
       "      <td>0.036651</td>\n",
       "      <td>0.011964</td>\n",
       "    </tr>\n",
       "    <tr>\n",
       "      <th>agePossession</th>\n",
       "      <td>-0.057609</td>\n",
       "      <td>0.016296</td>\n",
       "      <td>0.003784</td>\n",
       "      <td>0.006377</td>\n",
       "      <td>0.000000</td>\n",
       "      <td>0.016562</td>\n",
       "      <td>0.006965</td>\n",
       "      <td>0.021213</td>\n",
       "    </tr>\n",
       "    <tr>\n",
       "      <th>furnishing_type</th>\n",
       "      <td>0.189357</td>\n",
       "      <td>0.010538</td>\n",
       "      <td>0.008426</td>\n",
       "      <td>0.008874</td>\n",
       "      <td>0.087359</td>\n",
       "      <td>0.010333</td>\n",
       "      <td>0.095786</td>\n",
       "      <td>0.015973</td>\n",
       "    </tr>\n",
       "    <tr>\n",
       "      <th>luxury_category</th>\n",
       "      <td>-0.095842</td>\n",
       "      <td>0.011272</td>\n",
       "      <td>0.002501</td>\n",
       "      <td>0.004987</td>\n",
       "      <td>-0.039427</td>\n",
       "      <td>0.010831</td>\n",
       "      <td>-0.046025</td>\n",
       "      <td>0.021026</td>\n",
       "    </tr>\n",
       "    <tr>\n",
       "      <th>floor_category</th>\n",
       "      <td>-0.108764</td>\n",
       "      <td>0.013043</td>\n",
       "      <td>0.003546</td>\n",
       "      <td>-0.000068</td>\n",
       "      <td>-0.057369</td>\n",
       "      <td>0.013442</td>\n",
       "      <td>-0.066330</td>\n",
       "      <td>0.032351</td>\n",
       "    </tr>\n",
       "  </tbody>\n",
       "</table>\n",
       "</div>"
      ],
      "text/plain": [
       "                 corr_coeff  rf_importance  gb_importance  \\\n",
       "feature                                                     \n",
       "sector            -0.175522       0.185018       0.202897   \n",
       "built_up_area      0.779559       0.693263       0.722316   \n",
       "bedRoom            0.559427       0.014426       0.007775   \n",
       "bathroom           0.597106       0.022809       0.041987   \n",
       "balcony            0.352268       0.020650       0.004070   \n",
       "extra_rooms        0.332466       0.012685       0.002699   \n",
       "agePossession     -0.057609       0.016296       0.003784   \n",
       "furnishing_type    0.189357       0.010538       0.008426   \n",
       "luxury_category   -0.095842       0.011272       0.002501   \n",
       "floor_category    -0.108764       0.013043       0.003546   \n",
       "\n",
       "                 permutation_importance  lasso_coeff  rfe_score  reg_coeffs  \\\n",
       "feature                                                                       \n",
       "sector                         0.304765    -0.059451   0.190238   -0.068125   \n",
       "built_up_area                  0.874848     0.950211   0.691555    0.974867   \n",
       "bedRoom                        0.008403    -0.073008   0.012036   -0.137909   \n",
       "bathroom                       0.022597     0.173176   0.022142    0.223839   \n",
       "balcony                        0.002444    -0.012116   0.020017   -0.033214   \n",
       "extra_rooms                   -0.002566     0.029493   0.012846    0.036651   \n",
       "agePossession                  0.006377     0.000000   0.016562    0.006965   \n",
       "furnishing_type                0.008874     0.087359   0.010333    0.095786   \n",
       "luxury_category                0.004987    -0.039427   0.010831   -0.046025   \n",
       "floor_category                -0.000068    -0.057369   0.013442   -0.066330   \n",
       "\n",
       "                 SHAP_score  \n",
       "feature                      \n",
       "sector             0.325220  \n",
       "built_up_area      0.659880  \n",
       "bedRoom            0.026378  \n",
       "bathroom           0.048282  \n",
       "balcony            0.028674  \n",
       "extra_rooms        0.011964  \n",
       "agePossession      0.021213  \n",
       "furnishing_type    0.015973  \n",
       "luxury_category    0.021026  \n",
       "floor_category     0.032351  "
      ]
     },
     "execution_count": 213,
     "metadata": {},
     "output_type": "execute_result"
    }
   ],
   "source": [
    "final_fi_df"
   ]
  },
  {
   "cell_type": "code",
   "execution_count": 214,
   "metadata": {},
   "outputs": [
    {
     "data": {
      "text/plain": [
       "feature\n",
       "built_up_area      0.728372\n",
       "sector             0.241628\n",
       "bathroom           0.031564\n",
       "balcony            0.015171\n",
       "bedRoom            0.013803\n",
       "agePossession      0.012846\n",
       "floor_category     0.012463\n",
       "furnishing_type    0.010829\n",
       "luxury_category    0.010123\n",
       "extra_rooms        0.007526\n",
       "dtype: float64"
      ]
     },
     "execution_count": 214,
     "metadata": {},
     "output_type": "execute_result"
    }
   ],
   "source": [
    "final_fi_df[['rf_importance','gb_importance','permutation_importance','rfe_score','SHAP_score']].mean(axis=1).sort_values(ascending=False)"
   ]
  },
  {
   "cell_type": "markdown",
   "metadata": {},
   "source": [
    "Comments: It's visible that 'extra_rooms' are not adding much importance here. We can remove the column. But we need to check 'r2' score adding and removing those column. If r2 score gets decreased after removing it then we can remove it safely"
   ]
  },
  {
   "cell_type": "code",
   "execution_count": 215,
   "metadata": {},
   "outputs": [],
   "source": [
    "# with all the cols\n",
    "from sklearn.model_selection import cross_val_score\n",
    "rf = RandomForestRegressor(n_estimators=100, random_state=42)\n",
    "scores = cross_val_score(rf, X_label, y_label, cv=5, scoring='r2')"
   ]
  },
  {
   "cell_type": "code",
   "execution_count": 216,
   "metadata": {},
   "outputs": [
    {
     "data": {
      "text/plain": [
       "np.float64(0.7460776474861083)"
      ]
     },
     "execution_count": 216,
     "metadata": {},
     "output_type": "execute_result"
    }
   ],
   "source": [
    "scores.mean()"
   ]
  },
  {
   "cell_type": "code",
   "execution_count": 217,
   "metadata": {},
   "outputs": [
    {
     "data": {
      "text/plain": [
       "np.float64(0.7464784883766109)"
      ]
     },
     "execution_count": 217,
     "metadata": {},
     "output_type": "execute_result"
    }
   ],
   "source": [
    "# removing 'extra_rooms' column\n",
    "rf = RandomForestRegressor(n_estimators=100, random_state=42)\n",
    "scores = cross_val_score(rf, X_label.drop(columns=['extra_rooms']), y_label, cv=5, scoring='r2')\n",
    "scores.mean()"
   ]
  },
  {
   "cell_type": "markdown",
   "metadata": {},
   "source": [
    "Comments: It's visible that not significant improvement in 'r2'score. So, no need to remove 'extra_rooms' column"
   ]
  },
  {
   "cell_type": "code",
   "execution_count": 218,
   "metadata": {},
   "outputs": [],
   "source": [
    "# export_df = X_label.drop(columns=['extra_rooms'])\n",
    "# export_df['price'] = y_label"
   ]
  },
  {
   "cell_type": "code",
   "execution_count": 219,
   "metadata": {},
   "outputs": [],
   "source": [
    "# export_df"
   ]
  },
  {
   "cell_type": "code",
   "execution_count": null,
   "metadata": {},
   "outputs": [],
   "source": [
    "# export_df.to_csv('../data/flats_post_feature_selection.csv', index=False)"
   ]
  }
 ],
 "metadata": {
  "kernelspec": {
   "display_name": "venv",
   "language": "python",
   "name": "python3"
  },
  "language_info": {
   "codemirror_mode": {
    "name": "ipython",
    "version": 3
   },
   "file_extension": ".py",
   "mimetype": "text/x-python",
   "name": "python",
   "nbconvert_exporter": "python",
   "pygments_lexer": "ipython3",
   "version": "3.10.12"
  }
 },
 "nbformat": 4,
 "nbformat_minor": 2
}
