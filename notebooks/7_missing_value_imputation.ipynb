{
 "cells": [
  {
   "cell_type": "code",
   "execution_count": 67,
   "metadata": {},
   "outputs": [],
   "source": [
    "import numpy as np\n",
    "import pandas as pd\n",
    "import matplotlib.pyplot as plt\n",
    "import seaborn as sns"
   ]
  },
  {
   "cell_type": "code",
   "execution_count": 68,
   "metadata": {},
   "outputs": [],
   "source": [
    "pd.set_option('display.max_columns', None)"
   ]
  },
  {
   "cell_type": "code",
   "execution_count": 69,
   "metadata": {},
   "outputs": [],
   "source": [
    "df = pd.read_csv('../data/flats_outlier_treated.csv')"
   ]
  },
  {
   "cell_type": "code",
   "execution_count": 70,
   "metadata": {},
   "outputs": [
    {
     "data": {
      "text/html": [
       "<div>\n",
       "<style scoped>\n",
       "    .dataframe tbody tr th:only-of-type {\n",
       "        vertical-align: middle;\n",
       "    }\n",
       "\n",
       "    .dataframe tbody tr th {\n",
       "        vertical-align: top;\n",
       "    }\n",
       "\n",
       "    .dataframe thead th {\n",
       "        text-align: right;\n",
       "    }\n",
       "</style>\n",
       "<table border=\"1\" class=\"dataframe\">\n",
       "  <thead>\n",
       "    <tr style=\"text-align: right;\">\n",
       "      <th></th>\n",
       "      <th>society</th>\n",
       "      <th>price</th>\n",
       "      <th>sector</th>\n",
       "      <th>price_per_sqft</th>\n",
       "      <th>area</th>\n",
       "      <th>areaWithType</th>\n",
       "      <th>bedRoom</th>\n",
       "      <th>bathroom</th>\n",
       "      <th>balcony</th>\n",
       "      <th>extra_rooms</th>\n",
       "      <th>floorNum</th>\n",
       "      <th>facing</th>\n",
       "      <th>agePossession</th>\n",
       "      <th>super_built_up_area</th>\n",
       "      <th>built_up_area</th>\n",
       "      <th>carpet_area</th>\n",
       "      <th>furnishing_type</th>\n",
       "      <th>luxury_score</th>\n",
       "    </tr>\n",
       "  </thead>\n",
       "  <tbody>\n",
       "    <tr>\n",
       "      <th>0</th>\n",
       "      <td>maa bhagwati residency</td>\n",
       "      <td>0.45</td>\n",
       "      <td>sector 7</td>\n",
       "      <td>5000.0</td>\n",
       "      <td>900.0</td>\n",
       "      <td>Carpet area: 900 (83.61 sq.m.)</td>\n",
       "      <td>2</td>\n",
       "      <td>2</td>\n",
       "      <td>1</td>\n",
       "      <td>0</td>\n",
       "      <td>4</td>\n",
       "      <td>West</td>\n",
       "      <td>Relatively New</td>\n",
       "      <td>NaN</td>\n",
       "      <td>NaN</td>\n",
       "      <td>900.0</td>\n",
       "      <td>0</td>\n",
       "      <td>28</td>\n",
       "    </tr>\n",
       "    <tr>\n",
       "      <th>1</th>\n",
       "      <td>apna enclave</td>\n",
       "      <td>0.50</td>\n",
       "      <td>sector 3</td>\n",
       "      <td>7692.0</td>\n",
       "      <td>650.0</td>\n",
       "      <td>Carpet area: 650 (60.39 sq.m.)</td>\n",
       "      <td>2</td>\n",
       "      <td>2</td>\n",
       "      <td>1</td>\n",
       "      <td>0</td>\n",
       "      <td>1</td>\n",
       "      <td>West</td>\n",
       "      <td>Old Property</td>\n",
       "      <td>NaN</td>\n",
       "      <td>NaN</td>\n",
       "      <td>650.0</td>\n",
       "      <td>2</td>\n",
       "      <td>37</td>\n",
       "    </tr>\n",
       "    <tr>\n",
       "      <th>2</th>\n",
       "      <td>tulsiani easy in homes</td>\n",
       "      <td>0.40</td>\n",
       "      <td>sohna road</td>\n",
       "      <td>6723.0</td>\n",
       "      <td>595.0</td>\n",
       "      <td>Carpet area: 595 (55.28 sq.m.)</td>\n",
       "      <td>2</td>\n",
       "      <td>2</td>\n",
       "      <td>3</td>\n",
       "      <td>0</td>\n",
       "      <td>12</td>\n",
       "      <td>NaN</td>\n",
       "      <td>New Property</td>\n",
       "      <td>NaN</td>\n",
       "      <td>NaN</td>\n",
       "      <td>595.0</td>\n",
       "      <td>0</td>\n",
       "      <td>36</td>\n",
       "    </tr>\n",
       "    <tr>\n",
       "      <th>3</th>\n",
       "      <td>smart world orchard</td>\n",
       "      <td>1.47</td>\n",
       "      <td>sector 61</td>\n",
       "      <td>12250.0</td>\n",
       "      <td>1200.0</td>\n",
       "      <td>Carpet area: 1200 (111.48 sq.m.)</td>\n",
       "      <td>2</td>\n",
       "      <td>2</td>\n",
       "      <td>2</td>\n",
       "      <td>1</td>\n",
       "      <td>2</td>\n",
       "      <td>NaN</td>\n",
       "      <td>Under Construction</td>\n",
       "      <td>NaN</td>\n",
       "      <td>NaN</td>\n",
       "      <td>1200.0</td>\n",
       "      <td>0</td>\n",
       "      <td>76</td>\n",
       "    </tr>\n",
       "    <tr>\n",
       "      <th>4</th>\n",
       "      <td>parkwood westend</td>\n",
       "      <td>0.70</td>\n",
       "      <td>sector 92</td>\n",
       "      <td>5204.0</td>\n",
       "      <td>1345.0</td>\n",
       "      <td>Super Built up area 1345(124.95 sq.m.)</td>\n",
       "      <td>2</td>\n",
       "      <td>2</td>\n",
       "      <td>3</td>\n",
       "      <td>1</td>\n",
       "      <td>5</td>\n",
       "      <td>NaN</td>\n",
       "      <td>Under Construction</td>\n",
       "      <td>1345.0</td>\n",
       "      <td>NaN</td>\n",
       "      <td>NaN</td>\n",
       "      <td>0</td>\n",
       "      <td>0</td>\n",
       "    </tr>\n",
       "  </tbody>\n",
       "</table>\n",
       "</div>"
      ],
      "text/plain": [
       "                  society  price      sector  price_per_sqft    area  \\\n",
       "0  maa bhagwati residency   0.45    sector 7          5000.0   900.0   \n",
       "1            apna enclave   0.50    sector 3          7692.0   650.0   \n",
       "2  tulsiani easy in homes   0.40  sohna road          6723.0   595.0   \n",
       "3     smart world orchard   1.47   sector 61         12250.0  1200.0   \n",
       "4        parkwood westend   0.70   sector 92          5204.0  1345.0   \n",
       "\n",
       "                             areaWithType  bedRoom  bathroom balcony  \\\n",
       "0          Carpet area: 900 (83.61 sq.m.)        2         2       1   \n",
       "1          Carpet area: 650 (60.39 sq.m.)        2         2       1   \n",
       "2          Carpet area: 595 (55.28 sq.m.)        2         2       3   \n",
       "3        Carpet area: 1200 (111.48 sq.m.)        2         2       2   \n",
       "4  Super Built up area 1345(124.95 sq.m.)        2         2       3   \n",
       "\n",
       "   extra_rooms  floorNum facing       agePossession  super_built_up_area  \\\n",
       "0            0         4   West      Relatively New                  NaN   \n",
       "1            0         1   West        Old Property                  NaN   \n",
       "2            0        12    NaN        New Property                  NaN   \n",
       "3            1         2    NaN  Under Construction                  NaN   \n",
       "4            1         5    NaN  Under Construction               1345.0   \n",
       "\n",
       "   built_up_area  carpet_area  furnishing_type  luxury_score  \n",
       "0            NaN        900.0                0            28  \n",
       "1            NaN        650.0                2            37  \n",
       "2            NaN        595.0                0            36  \n",
       "3            NaN       1200.0                0            76  \n",
       "4            NaN          NaN                0             0  "
      ]
     },
     "execution_count": 70,
     "metadata": {},
     "output_type": "execute_result"
    }
   ],
   "source": [
    "df.head()"
   ]
  },
  {
   "cell_type": "code",
   "execution_count": 71,
   "metadata": {},
   "outputs": [
    {
     "data": {
      "text/plain": [
       "(2849, 18)"
      ]
     },
     "execution_count": 71,
     "metadata": {},
     "output_type": "execute_result"
    }
   ],
   "source": [
    "df.shape"
   ]
  },
  {
   "cell_type": "code",
   "execution_count": 72,
   "metadata": {},
   "outputs": [
    {
     "data": {
      "text/plain": [
       "society                   0\n",
       "price                     0\n",
       "sector                    0\n",
       "price_per_sqft            0\n",
       "area                      0\n",
       "areaWithType              0\n",
       "bedRoom                   0\n",
       "bathroom                  0\n",
       "balcony                   0\n",
       "extra_rooms               0\n",
       "floorNum                  0\n",
       "facing                  805\n",
       "agePossession             0\n",
       "super_built_up_area     956\n",
       "built_up_area          1955\n",
       "carpet_area            1118\n",
       "furnishing_type           0\n",
       "luxury_score              0\n",
       "dtype: int64"
      ]
     },
     "execution_count": 72,
     "metadata": {},
     "output_type": "execute_result"
    }
   ],
   "source": [
    "df.isnull().sum()"
   ]
  },
  {
   "cell_type": "markdown",
   "metadata": {},
   "source": [
    "Built Up Area"
   ]
  },
  {
   "cell_type": "code",
   "execution_count": 73,
   "metadata": {},
   "outputs": [
    {
     "data": {
      "text/plain": [
       "<Axes: xlabel='built_up_area', ylabel='super_built_up_area'>"
      ]
     },
     "execution_count": 73,
     "metadata": {},
     "output_type": "execute_result"
    },
    {
     "data": {
      "image/png": "[encoded data removed]",
      "text/plain": [
       "<Figure size 640x480 with 1 Axes>"
      ]
     },
     "metadata": {},
     "output_type": "display_data"
    }
   ],
   "source": [
    "sns.scatterplot(x=df['built_up_area'],y=df['super_built_up_area'])"
   ]
  },
  {
   "cell_type": "code",
   "execution_count": 74,
   "metadata": {},
   "outputs": [
    {
     "data": {
      "text/plain": [
       "<Axes: xlabel='built_up_area', ylabel='carpet_area'>"
      ]
     },
     "execution_count": 74,
     "metadata": {},
     "output_type": "execute_result"
    },
    {
     "data": {
      "image/png": "[encoded data removed]",
      "text/plain": [
       "<Figure size 640x480 with 1 Axes>"
      ]
     },
     "metadata": {},
     "output_type": "display_data"
    }
   ],
   "source": [
    "sns.scatterplot(x=df['built_up_area'],y=df['carpet_area'])"
   ]
  },
  {
   "cell_type": "code",
   "execution_count": 75,
   "metadata": {},
   "outputs": [
    {
     "data": {
      "text/plain": [
       "np.int64(0)"
      ]
     },
     "execution_count": 75,
     "metadata": {},
     "output_type": "execute_result"
    }
   ],
   "source": [
    "# no of rows where all 3 are NaN\n",
    "((df['super_built_up_area'].isnull()) & (df['built_up_area'].isnull()) & (df['carpet_area'].isnull())).sum()\n"
   ]
  },
  {
   "cell_type": "markdown",
   "metadata": {},
   "source": [
    "Comment: No row is there where all three are NaN"
   ]
  },
  {
   "cell_type": "code",
   "execution_count": 76,
   "metadata": {},
   "outputs": [],
   "source": [
    "all_present_df = df[~((df['super_built_up_area'].isnull()) | (df['built_up_area'].isnull()) | (df['carpet_area'].isnull()))]"
   ]
  },
  {
   "cell_type": "code",
   "execution_count": 77,
   "metadata": {},
   "outputs": [
    {
     "data": {
      "text/plain": [
       "(534, 18)"
      ]
     },
     "execution_count": 77,
     "metadata": {},
     "output_type": "execute_result"
    }
   ],
   "source": [
    "# no of rows where all 3 are present\n",
    "all_present_df.shape"
   ]
  },
  {
   "cell_type": "code",
   "execution_count": 78,
   "metadata": {},
   "outputs": [],
   "source": [
    "# calculating (super_built_up_area/built_up_area) and (carpet_area/built_up_area) to fill NaN\n",
    "super_to_built_up_ratio = (all_present_df['super_built_up_area']/all_present_df['built_up_area']).median()\n",
    "carpet_to_built_up_ratio = (all_present_df['carpet_area']/all_present_df['built_up_area']).median()\n"
   ]
  },
  {
   "cell_type": "code",
   "execution_count": 79,
   "metadata": {},
   "outputs": [
    {
     "name": "stdout",
     "output_type": "stream",
     "text": [
      "1.1052289815447711 0.9\n"
     ]
    }
   ],
   "source": [
    "print(super_to_built_up_ratio, carpet_to_built_up_ratio)"
   ]
  },
  {
   "cell_type": "code",
   "execution_count": 80,
   "metadata": {},
   "outputs": [],
   "source": [
    "# built up area NaN but both super built up area present and carpet area present\n",
    "sbc_df = df[~(df['super_built_up_area'].isnull()) & (df['built_up_area'].isnull()) & ~(df['carpet_area'].isnull())]"
   ]
  },
  {
   "cell_type": "code",
   "execution_count": 81,
   "metadata": {},
   "outputs": [
    {
     "data": {
      "text/plain": [
       "(424, 18)"
      ]
     },
     "execution_count": 81,
     "metadata": {},
     "output_type": "execute_result"
    }
   ],
   "source": [
    "sbc_df.shape"
   ]
  },
  {
   "cell_type": "code",
   "execution_count": 82,
   "metadata": {},
   "outputs": [
    {
     "name": "stderr",
     "output_type": "stream",
     "text": [
      "/tmp/ipykernel_5417/4233832945.py:2: FutureWarning: A value is trying to be set on a copy of a DataFrame or Series through chained assignment using an inplace method.\n",
      "The behavior will change in pandas 3.0. This inplace method will never work because the intermediate object on which we are setting values always behaves as a copy.\n",
      "\n",
      "For example, when doing 'df[col].method(value, inplace=True)', try using 'df.method({col: value}, inplace=True)' or df[col] = df[col].method(value) instead, to perform the operation inplace on the original object.\n",
      "\n",
      "\n",
      "  sbc_df['built_up_area'].fillna(round(((sbc_df['super_built_up_area']/1.105) + (sbc_df['carpet_area']/0.9))/2),inplace=True)\n",
      "/tmp/ipykernel_5417/4233832945.py:2: SettingWithCopyWarning: \n",
      "A value is trying to be set on a copy of a slice from a DataFrame\n",
      "\n",
      "See the caveats in the documentation: https://pandas.pydata.org/pandas-docs/stable/user_guide/indexing.html#returning-a-view-versus-a-copy\n",
      "  sbc_df['built_up_area'].fillna(round(((sbc_df['super_built_up_area']/1.105) + (sbc_df['carpet_area']/0.9))/2),inplace=True)\n"
     ]
    }
   ],
   "source": [
    "# Taking avg of super_built_up area and carpet_area in those cases\n",
    "sbc_df['built_up_area'].fillna(round(((sbc_df['super_built_up_area']/1.105) + (sbc_df['carpet_area']/0.9))/2),inplace=True)"
   ]
  },
  {
   "cell_type": "code",
   "execution_count": 83,
   "metadata": {},
   "outputs": [],
   "source": [
    "df.update(sbc_df)"
   ]
  },
  {
   "cell_type": "code",
   "execution_count": 84,
   "metadata": {},
   "outputs": [
    {
     "data": {
      "text/plain": [
       "society                   0\n",
       "price                     0\n",
       "sector                    0\n",
       "price_per_sqft            0\n",
       "area                      0\n",
       "areaWithType              0\n",
       "bedRoom                   0\n",
       "bathroom                  0\n",
       "balcony                   0\n",
       "extra_rooms               0\n",
       "floorNum                  0\n",
       "facing                  805\n",
       "agePossession             0\n",
       "super_built_up_area     956\n",
       "built_up_area          1531\n",
       "carpet_area            1118\n",
       "furnishing_type           0\n",
       "luxury_score              0\n",
       "dtype: int64"
      ]
     },
     "execution_count": 84,
     "metadata": {},
     "output_type": "execute_result"
    }
   ],
   "source": [
    "df.isnull().sum()"
   ]
  },
  {
   "cell_type": "code",
   "execution_count": 85,
   "metadata": {},
   "outputs": [],
   "source": [
    "# built up area NaN but only super_built_up_area area present\n",
    "sb_df = df[~(df['super_built_up_area'].isnull()) & (df['built_up_area'].isnull()) & (df['carpet_area'].isnull())]"
   ]
  },
  {
   "cell_type": "code",
   "execution_count": 86,
   "metadata": {},
   "outputs": [
    {
     "data": {
      "text/html": [
       "<div>\n",
       "<style scoped>\n",
       "    .dataframe tbody tr th:only-of-type {\n",
       "        vertical-align: middle;\n",
       "    }\n",
       "\n",
       "    .dataframe tbody tr th {\n",
       "        vertical-align: top;\n",
       "    }\n",
       "\n",
       "    .dataframe thead th {\n",
       "        text-align: right;\n",
       "    }\n",
       "</style>\n",
       "<table border=\"1\" class=\"dataframe\">\n",
       "  <thead>\n",
       "    <tr style=\"text-align: right;\">\n",
       "      <th></th>\n",
       "      <th>society</th>\n",
       "      <th>price</th>\n",
       "      <th>sector</th>\n",
       "      <th>price_per_sqft</th>\n",
       "      <th>area</th>\n",
       "      <th>areaWithType</th>\n",
       "      <th>bedRoom</th>\n",
       "      <th>bathroom</th>\n",
       "      <th>balcony</th>\n",
       "      <th>extra_rooms</th>\n",
       "      <th>floorNum</th>\n",
       "      <th>facing</th>\n",
       "      <th>agePossession</th>\n",
       "      <th>super_built_up_area</th>\n",
       "      <th>built_up_area</th>\n",
       "      <th>carpet_area</th>\n",
       "      <th>furnishing_type</th>\n",
       "      <th>luxury_score</th>\n",
       "    </tr>\n",
       "  </thead>\n",
       "  <tbody>\n",
       "    <tr>\n",
       "      <th>4</th>\n",
       "      <td>parkwood westend</td>\n",
       "      <td>0.70</td>\n",
       "      <td>sector 92</td>\n",
       "      <td>5204.0</td>\n",
       "      <td>1345.0</td>\n",
       "      <td>Super Built up area 1345(124.95 sq.m.)</td>\n",
       "      <td>2</td>\n",
       "      <td>2</td>\n",
       "      <td>3</td>\n",
       "      <td>1</td>\n",
       "      <td>5</td>\n",
       "      <td>NaN</td>\n",
       "      <td>Under Construction</td>\n",
       "      <td>1345.0</td>\n",
       "      <td>NaN</td>\n",
       "      <td>NaN</td>\n",
       "      <td>0</td>\n",
       "      <td>0</td>\n",
       "    </tr>\n",
       "    <tr>\n",
       "      <th>6</th>\n",
       "      <td>the cocoon</td>\n",
       "      <td>2.00</td>\n",
       "      <td>dwarka expressway</td>\n",
       "      <td>13333.0</td>\n",
       "      <td>1500.0</td>\n",
       "      <td>Super Built up area 1500(139.35 sq.m.)</td>\n",
       "      <td>3</td>\n",
       "      <td>3</td>\n",
       "      <td>3</td>\n",
       "      <td>0</td>\n",
       "      <td>5</td>\n",
       "      <td>NaN</td>\n",
       "      <td>New Property</td>\n",
       "      <td>1500.0</td>\n",
       "      <td>NaN</td>\n",
       "      <td>NaN</td>\n",
       "      <td>0</td>\n",
       "      <td>0</td>\n",
       "    </tr>\n",
       "    <tr>\n",
       "      <th>13</th>\n",
       "      <td>godrej</td>\n",
       "      <td>0.95</td>\n",
       "      <td>sector 33</td>\n",
       "      <td>6859.0</td>\n",
       "      <td>1385.0</td>\n",
       "      <td>Super Built up area 1385(128.67 sq.m.)</td>\n",
       "      <td>2</td>\n",
       "      <td>2</td>\n",
       "      <td>3+</td>\n",
       "      <td>0</td>\n",
       "      <td>3</td>\n",
       "      <td>South-East</td>\n",
       "      <td>Under Construction</td>\n",
       "      <td>1385.0</td>\n",
       "      <td>NaN</td>\n",
       "      <td>NaN</td>\n",
       "      <td>0</td>\n",
       "      <td>0</td>\n",
       "    </tr>\n",
       "    <tr>\n",
       "      <th>14</th>\n",
       "      <td>shree vardhman flora</td>\n",
       "      <td>0.70</td>\n",
       "      <td>sector 90</td>\n",
       "      <td>5385.0</td>\n",
       "      <td>1300.0</td>\n",
       "      <td>Super Built up area 1300(120.77 sq.m.)</td>\n",
       "      <td>2</td>\n",
       "      <td>2</td>\n",
       "      <td>3</td>\n",
       "      <td>1</td>\n",
       "      <td>13</td>\n",
       "      <td>NaN</td>\n",
       "      <td>New Property</td>\n",
       "      <td>1300.0</td>\n",
       "      <td>NaN</td>\n",
       "      <td>NaN</td>\n",
       "      <td>0</td>\n",
       "      <td>15</td>\n",
       "    </tr>\n",
       "    <tr>\n",
       "      <th>18</th>\n",
       "      <td>central park flower valley</td>\n",
       "      <td>2.20</td>\n",
       "      <td>sector 33</td>\n",
       "      <td>10476.0</td>\n",
       "      <td>2100.0</td>\n",
       "      <td>Super Built up area 2100(195.1 sq.m.)</td>\n",
       "      <td>3</td>\n",
       "      <td>3</td>\n",
       "      <td>3</td>\n",
       "      <td>1</td>\n",
       "      <td>12</td>\n",
       "      <td>North-East</td>\n",
       "      <td>New Property</td>\n",
       "      <td>2100.0</td>\n",
       "      <td>NaN</td>\n",
       "      <td>NaN</td>\n",
       "      <td>2</td>\n",
       "      <td>49</td>\n",
       "    </tr>\n",
       "  </tbody>\n",
       "</table>\n",
       "</div>"
      ],
      "text/plain": [
       "                       society  price             sector  price_per_sqft  \\\n",
       "4             parkwood westend   0.70          sector 92          5204.0   \n",
       "6                   the cocoon   2.00  dwarka expressway         13333.0   \n",
       "13                      godrej   0.95          sector 33          6859.0   \n",
       "14        shree vardhman flora   0.70          sector 90          5385.0   \n",
       "18  central park flower valley   2.20          sector 33         10476.0   \n",
       "\n",
       "      area                            areaWithType  bedRoom  bathroom balcony  \\\n",
       "4   1345.0  Super Built up area 1345(124.95 sq.m.)        2         2       3   \n",
       "6   1500.0  Super Built up area 1500(139.35 sq.m.)        3         3       3   \n",
       "13  1385.0  Super Built up area 1385(128.67 sq.m.)        2         2      3+   \n",
       "14  1300.0  Super Built up area 1300(120.77 sq.m.)        2         2       3   \n",
       "18  2100.0   Super Built up area 2100(195.1 sq.m.)        3         3       3   \n",
       "\n",
       "    extra_rooms  floorNum      facing       agePossession  \\\n",
       "4             1         5         NaN  Under Construction   \n",
       "6             0         5         NaN        New Property   \n",
       "13            0         3  South-East  Under Construction   \n",
       "14            1        13         NaN        New Property   \n",
       "18            1        12  North-East        New Property   \n",
       "\n",
       "    super_built_up_area  built_up_area  carpet_area  furnishing_type  \\\n",
       "4                1345.0            NaN          NaN                0   \n",
       "6                1500.0            NaN          NaN                0   \n",
       "13               1385.0            NaN          NaN                0   \n",
       "14               1300.0            NaN          NaN                0   \n",
       "18               2100.0            NaN          NaN                2   \n",
       "\n",
       "    luxury_score  \n",
       "4              0  \n",
       "6              0  \n",
       "13             0  \n",
       "14            15  \n",
       "18            49  "
      ]
     },
     "execution_count": 86,
     "metadata": {},
     "output_type": "execute_result"
    }
   ],
   "source": [
    "sb_df.head()"
   ]
  },
  {
   "cell_type": "code",
   "execution_count": 87,
   "metadata": {},
   "outputs": [
    {
     "name": "stderr",
     "output_type": "stream",
     "text": [
      "/tmp/ipykernel_5417/1714170073.py:1: FutureWarning: A value is trying to be set on a copy of a DataFrame or Series through chained assignment using an inplace method.\n",
      "The behavior will change in pandas 3.0. This inplace method will never work because the intermediate object on which we are setting values always behaves as a copy.\n",
      "\n",
      "For example, when doing 'df[col].method(value, inplace=True)', try using 'df.method({col: value}, inplace=True)' or df[col] = df[col].method(value) instead, to perform the operation inplace on the original object.\n",
      "\n",
      "\n",
      "  sb_df['built_up_area'].fillna(round(sb_df['super_built_up_area']/1.105),inplace=True)\n",
      "/tmp/ipykernel_5417/1714170073.py:1: SettingWithCopyWarning: \n",
      "A value is trying to be set on a copy of a slice from a DataFrame\n",
      "\n",
      "See the caveats in the documentation: https://pandas.pydata.org/pandas-docs/stable/user_guide/indexing.html#returning-a-view-versus-a-copy\n",
      "  sb_df['built_up_area'].fillna(round(sb_df['super_built_up_area']/1.105),inplace=True)\n"
     ]
    }
   ],
   "source": [
    "sb_df['built_up_area'].fillna(round(sb_df['super_built_up_area']/1.105),inplace=True)"
   ]
  },
  {
   "cell_type": "code",
   "execution_count": 88,
   "metadata": {},
   "outputs": [],
   "source": [
    "df.update(sb_df)"
   ]
  },
  {
   "cell_type": "code",
   "execution_count": 89,
   "metadata": {},
   "outputs": [
    {
     "data": {
      "text/plain": [
       "society                   0\n",
       "price                     0\n",
       "sector                    0\n",
       "price_per_sqft            0\n",
       "area                      0\n",
       "areaWithType              0\n",
       "bedRoom                   0\n",
       "bathroom                  0\n",
       "balcony                   0\n",
       "extra_rooms               0\n",
       "floorNum                  0\n",
       "facing                  805\n",
       "agePossession             0\n",
       "super_built_up_area     956\n",
       "built_up_area           645\n",
       "carpet_area            1118\n",
       "furnishing_type           0\n",
       "luxury_score              0\n",
       "dtype: int64"
      ]
     },
     "execution_count": 89,
     "metadata": {},
     "output_type": "execute_result"
    }
   ],
   "source": [
    "df.isnull().sum()"
   ]
  },
  {
   "cell_type": "code",
   "execution_count": 90,
   "metadata": {},
   "outputs": [],
   "source": [
    "# built up area NaN but only carpet area present\n",
    "c_df = df[(df['super_built_up_area'].isnull()) & (df['built_up_area'].isnull()) & ~(df['carpet_area'].isnull())]\n"
   ]
  },
  {
   "cell_type": "code",
   "execution_count": 91,
   "metadata": {},
   "outputs": [
    {
     "name": "stderr",
     "output_type": "stream",
     "text": [
      "/tmp/ipykernel_5417/2136919732.py:1: FutureWarning: A value is trying to be set on a copy of a DataFrame or Series through chained assignment using an inplace method.\n",
      "The behavior will change in pandas 3.0. This inplace method will never work because the intermediate object on which we are setting values always behaves as a copy.\n",
      "\n",
      "For example, when doing 'df[col].method(value, inplace=True)', try using 'df.method({col: value}, inplace=True)' or df[col] = df[col].method(value) instead, to perform the operation inplace on the original object.\n",
      "\n",
      "\n",
      "  c_df['built_up_area'].fillna(round(c_df['carpet_area']/0.9),inplace=True)\n",
      "/tmp/ipykernel_5417/2136919732.py:1: SettingWithCopyWarning: \n",
      "A value is trying to be set on a copy of a slice from a DataFrame\n",
      "\n",
      "See the caveats in the documentation: https://pandas.pydata.org/pandas-docs/stable/user_guide/indexing.html#returning-a-view-versus-a-copy\n",
      "  c_df['built_up_area'].fillna(round(c_df['carpet_area']/0.9),inplace=True)\n"
     ]
    }
   ],
   "source": [
    "c_df['built_up_area'].fillna(round(c_df['carpet_area']/0.9),inplace=True)"
   ]
  },
  {
   "cell_type": "code",
   "execution_count": 92,
   "metadata": {},
   "outputs": [],
   "source": [
    "df.update(c_df)"
   ]
  },
  {
   "cell_type": "code",
   "execution_count": 93,
   "metadata": {},
   "outputs": [
    {
     "data": {
      "text/plain": [
       "society                   0\n",
       "price                     0\n",
       "sector                    0\n",
       "price_per_sqft            0\n",
       "area                      0\n",
       "areaWithType              0\n",
       "bedRoom                   0\n",
       "bathroom                  0\n",
       "balcony                   0\n",
       "extra_rooms               0\n",
       "floorNum                  0\n",
       "facing                  805\n",
       "agePossession             0\n",
       "super_built_up_area     956\n",
       "built_up_area             0\n",
       "carpet_area            1118\n",
       "furnishing_type           0\n",
       "luxury_score              0\n",
       "dtype: int64"
      ]
     },
     "execution_count": 93,
     "metadata": {},
     "output_type": "execute_result"
    }
   ],
   "source": [
    "df.isnull().sum()"
   ]
  },
  {
   "cell_type": "code",
   "execution_count": 94,
   "metadata": {},
   "outputs": [
    {
     "data": {
      "text/plain": [
       "<Axes: xlabel='built_up_area', ylabel='price'>"
      ]
     },
     "execution_count": 94,
     "metadata": {},
     "output_type": "execute_result"
    },
    {
     "data": {
      "image/png": "[encoded data removed]",
      "text/plain": [
       "<Figure size 640x480 with 1 Axes>"
      ]
     },
     "metadata": {},
     "output_type": "display_data"
    }
   ],
   "source": [
    "sns.scatterplot(x=df['built_up_area'],y=df['price'])"
   ]
  },
  {
   "cell_type": "code",
   "execution_count": 95,
   "metadata": {},
   "outputs": [
    {
     "data": {
      "text/plain": [
       "Index(['society', 'price', 'sector', 'price_per_sqft', 'area', 'areaWithType',\n",
       "       'bedRoom', 'bathroom', 'balcony', 'extra_rooms', 'floorNum', 'facing',\n",
       "       'agePossession', 'super_built_up_area', 'built_up_area', 'carpet_area',\n",
       "       'furnishing_type', 'luxury_score'],\n",
       "      dtype='object')"
      ]
     },
     "execution_count": 95,
     "metadata": {},
     "output_type": "execute_result"
    }
   ],
   "source": [
    "df.columns"
   ]
  },
  {
   "cell_type": "code",
   "execution_count": 96,
   "metadata": {},
   "outputs": [
    {
     "data": {
      "text/html": [
       "<div>\n",
       "<style scoped>\n",
       "    .dataframe tbody tr th:only-of-type {\n",
       "        vertical-align: middle;\n",
       "    }\n",
       "\n",
       "    .dataframe tbody tr th {\n",
       "        vertical-align: top;\n",
       "    }\n",
       "\n",
       "    .dataframe thead th {\n",
       "        text-align: right;\n",
       "    }\n",
       "</style>\n",
       "<table border=\"1\" class=\"dataframe\">\n",
       "  <thead>\n",
       "    <tr style=\"text-align: right;\">\n",
       "      <th></th>\n",
       "      <th>area</th>\n",
       "      <th>built_up_area</th>\n",
       "      <th>carpet_area</th>\n",
       "      <th>super_built_up_area</th>\n",
       "      <th>bedRoom</th>\n",
       "      <th>bathroom</th>\n",
       "      <th>balcony</th>\n",
       "      <th>extra_rooms</th>\n",
       "      <th>price</th>\n",
       "    </tr>\n",
       "  </thead>\n",
       "  <tbody>\n",
       "    <tr>\n",
       "      <th>29</th>\n",
       "      <td>594.0</td>\n",
       "      <td>73.00</td>\n",
       "      <td>66.00</td>\n",
       "      <td>NaN</td>\n",
       "      <td>2</td>\n",
       "      <td>2</td>\n",
       "      <td>2</td>\n",
       "      <td>0</td>\n",
       "      <td>1.60</td>\n",
       "    </tr>\n",
       "    <tr>\n",
       "      <th>104</th>\n",
       "      <td>958.0</td>\n",
       "      <td>81.00</td>\n",
       "      <td>NaN</td>\n",
       "      <td>89.0</td>\n",
       "      <td>2</td>\n",
       "      <td>2</td>\n",
       "      <td>3</td>\n",
       "      <td>0</td>\n",
       "      <td>1.10</td>\n",
       "    </tr>\n",
       "    <tr>\n",
       "      <th>131</th>\n",
       "      <td>1935.0</td>\n",
       "      <td>195.00</td>\n",
       "      <td>NaN</td>\n",
       "      <td>215.0</td>\n",
       "      <td>3</td>\n",
       "      <td>3</td>\n",
       "      <td>2</td>\n",
       "      <td>0</td>\n",
       "      <td>2.50</td>\n",
       "    </tr>\n",
       "    <tr>\n",
       "      <th>157</th>\n",
       "      <td>926.0</td>\n",
       "      <td>118.00</td>\n",
       "      <td>86.00</td>\n",
       "      <td>NaN</td>\n",
       "      <td>3</td>\n",
       "      <td>2</td>\n",
       "      <td>3+</td>\n",
       "      <td>1</td>\n",
       "      <td>1.45</td>\n",
       "    </tr>\n",
       "    <tr>\n",
       "      <th>182</th>\n",
       "      <td>1370.0</td>\n",
       "      <td>141.00</td>\n",
       "      <td>127.30</td>\n",
       "      <td>NaN</td>\n",
       "      <td>3</td>\n",
       "      <td>3</td>\n",
       "      <td>3</td>\n",
       "      <td>0</td>\n",
       "      <td>1.80</td>\n",
       "    </tr>\n",
       "    <tr>\n",
       "      <th>263</th>\n",
       "      <td>1260.0</td>\n",
       "      <td>140.00</td>\n",
       "      <td>NaN</td>\n",
       "      <td>NaN</td>\n",
       "      <td>3</td>\n",
       "      <td>3</td>\n",
       "      <td>2</td>\n",
       "      <td>0</td>\n",
       "      <td>0.70</td>\n",
       "    </tr>\n",
       "    <tr>\n",
       "      <th>296</th>\n",
       "      <td>990.0</td>\n",
       "      <td>97.00</td>\n",
       "      <td>92.00</td>\n",
       "      <td>NaN</td>\n",
       "      <td>2</td>\n",
       "      <td>2</td>\n",
       "      <td>1</td>\n",
       "      <td>0</td>\n",
       "      <td>1.05</td>\n",
       "    </tr>\n",
       "    <tr>\n",
       "      <th>412</th>\n",
       "      <td>1944.0</td>\n",
       "      <td>195.00</td>\n",
       "      <td>NaN</td>\n",
       "      <td>216.0</td>\n",
       "      <td>3</td>\n",
       "      <td>3</td>\n",
       "      <td>2</td>\n",
       "      <td>1</td>\n",
       "      <td>2.40</td>\n",
       "    </tr>\n",
       "    <tr>\n",
       "      <th>1902</th>\n",
       "      <td>820.0</td>\n",
       "      <td>85.00</td>\n",
       "      <td>76.44</td>\n",
       "      <td>NaN</td>\n",
       "      <td>2</td>\n",
       "      <td>2</td>\n",
       "      <td>2</td>\n",
       "      <td>0</td>\n",
       "      <td>1.31</td>\n",
       "    </tr>\n",
       "    <tr>\n",
       "      <th>1914</th>\n",
       "      <td>1167.0</td>\n",
       "      <td>120.00</td>\n",
       "      <td>108.40</td>\n",
       "      <td>NaN</td>\n",
       "      <td>2</td>\n",
       "      <td>2</td>\n",
       "      <td>1</td>\n",
       "      <td>1</td>\n",
       "      <td>1.15</td>\n",
       "    </tr>\n",
       "    <tr>\n",
       "      <th>1970</th>\n",
       "      <td>2153.0</td>\n",
       "      <td>222.00</td>\n",
       "      <td>200.00</td>\n",
       "      <td>NaN</td>\n",
       "      <td>3</td>\n",
       "      <td>3</td>\n",
       "      <td>3</td>\n",
       "      <td>1</td>\n",
       "      <td>3.15</td>\n",
       "    </tr>\n",
       "    <tr>\n",
       "      <th>1972</th>\n",
       "      <td>926.0</td>\n",
       "      <td>113.00</td>\n",
       "      <td>86.00</td>\n",
       "      <td>145.0</td>\n",
       "      <td>3</td>\n",
       "      <td>2</td>\n",
       "      <td>3+</td>\n",
       "      <td>0</td>\n",
       "      <td>1.40</td>\n",
       "    </tr>\n",
       "    <tr>\n",
       "      <th>2032</th>\n",
       "      <td>835.0</td>\n",
       "      <td>86.00</td>\n",
       "      <td>77.53</td>\n",
       "      <td>NaN</td>\n",
       "      <td>2</td>\n",
       "      <td>2</td>\n",
       "      <td>3</td>\n",
       "      <td>0</td>\n",
       "      <td>1.20</td>\n",
       "    </tr>\n",
       "    <tr>\n",
       "      <th>2102</th>\n",
       "      <td>3150.0</td>\n",
       "      <td>389.00</td>\n",
       "      <td>350.00</td>\n",
       "      <td>NaN</td>\n",
       "      <td>4</td>\n",
       "      <td>4</td>\n",
       "      <td>3+</td>\n",
       "      <td>0</td>\n",
       "      <td>4.49</td>\n",
       "    </tr>\n",
       "    <tr>\n",
       "      <th>2241</th>\n",
       "      <td>904.0</td>\n",
       "      <td>93.00</td>\n",
       "      <td>84.01</td>\n",
       "      <td>NaN</td>\n",
       "      <td>2</td>\n",
       "      <td>2</td>\n",
       "      <td>3</td>\n",
       "      <td>1</td>\n",
       "      <td>1.47</td>\n",
       "    </tr>\n",
       "    <tr>\n",
       "      <th>2249</th>\n",
       "      <td>898.0</td>\n",
       "      <td>85.00</td>\n",
       "      <td>76.44</td>\n",
       "      <td>NaN</td>\n",
       "      <td>2</td>\n",
       "      <td>2</td>\n",
       "      <td>0</td>\n",
       "      <td>0</td>\n",
       "      <td>1.20</td>\n",
       "    </tr>\n",
       "    <tr>\n",
       "      <th>2262</th>\n",
       "      <td>2214.0</td>\n",
       "      <td>273.00</td>\n",
       "      <td>246.00</td>\n",
       "      <td>NaN</td>\n",
       "      <td>3</td>\n",
       "      <td>2</td>\n",
       "      <td>3+</td>\n",
       "      <td>0</td>\n",
       "      <td>1.50</td>\n",
       "    </tr>\n",
       "    <tr>\n",
       "      <th>2399</th>\n",
       "      <td>900.0</td>\n",
       "      <td>111.00</td>\n",
       "      <td>100.00</td>\n",
       "      <td>NaN</td>\n",
       "      <td>3</td>\n",
       "      <td>2</td>\n",
       "      <td>2</td>\n",
       "      <td>0</td>\n",
       "      <td>0.48</td>\n",
       "    </tr>\n",
       "    <tr>\n",
       "      <th>2405</th>\n",
       "      <td>995.0</td>\n",
       "      <td>103.00</td>\n",
       "      <td>92.44</td>\n",
       "      <td>NaN</td>\n",
       "      <td>2</td>\n",
       "      <td>2</td>\n",
       "      <td>2</td>\n",
       "      <td>0</td>\n",
       "      <td>1.15</td>\n",
       "    </tr>\n",
       "    <tr>\n",
       "      <th>2435</th>\n",
       "      <td>1582.0</td>\n",
       "      <td>138.00</td>\n",
       "      <td>124.00</td>\n",
       "      <td>NaN</td>\n",
       "      <td>3</td>\n",
       "      <td>3</td>\n",
       "      <td>3+</td>\n",
       "      <td>0</td>\n",
       "      <td>2.65</td>\n",
       "    </tr>\n",
       "    <tr>\n",
       "      <th>2516</th>\n",
       "      <td>832.0</td>\n",
       "      <td>86.00</td>\n",
       "      <td>77.31</td>\n",
       "      <td>NaN</td>\n",
       "      <td>2</td>\n",
       "      <td>2</td>\n",
       "      <td>3</td>\n",
       "      <td>1</td>\n",
       "      <td>0.82</td>\n",
       "    </tr>\n",
       "    <tr>\n",
       "      <th>2519</th>\n",
       "      <td>1620.0</td>\n",
       "      <td>200.00</td>\n",
       "      <td>180.00</td>\n",
       "      <td>NaN</td>\n",
       "      <td>3</td>\n",
       "      <td>3</td>\n",
       "      <td>2</td>\n",
       "      <td>0</td>\n",
       "      <td>1.20</td>\n",
       "    </tr>\n",
       "    <tr>\n",
       "      <th>2626</th>\n",
       "      <td>823.0</td>\n",
       "      <td>85.00</td>\n",
       "      <td>76.44</td>\n",
       "      <td>NaN</td>\n",
       "      <td>2</td>\n",
       "      <td>2</td>\n",
       "      <td>3</td>\n",
       "      <td>0</td>\n",
       "      <td>1.08</td>\n",
       "    </tr>\n",
       "    <tr>\n",
       "      <th>2653</th>\n",
       "      <td>990.0</td>\n",
       "      <td>102.00</td>\n",
       "      <td>92.00</td>\n",
       "      <td>NaN</td>\n",
       "      <td>2</td>\n",
       "      <td>2</td>\n",
       "      <td>3</td>\n",
       "      <td>0</td>\n",
       "      <td>1.35</td>\n",
       "    </tr>\n",
       "    <tr>\n",
       "      <th>2718</th>\n",
       "      <td>1159.0</td>\n",
       "      <td>129.42</td>\n",
       "      <td>107.70</td>\n",
       "      <td>NaN</td>\n",
       "      <td>3</td>\n",
       "      <td>4</td>\n",
       "      <td>3+</td>\n",
       "      <td>1</td>\n",
       "      <td>1.62</td>\n",
       "    </tr>\n",
       "    <tr>\n",
       "      <th>2739</th>\n",
       "      <td>1733.0</td>\n",
       "      <td>133.00</td>\n",
       "      <td>108.40</td>\n",
       "      <td>161.0</td>\n",
       "      <td>2</td>\n",
       "      <td>2</td>\n",
       "      <td>3+</td>\n",
       "      <td>1</td>\n",
       "      <td>1.45</td>\n",
       "    </tr>\n",
       "  </tbody>\n",
       "</table>\n",
       "</div>"
      ],
      "text/plain": [
       "        area  built_up_area  carpet_area  super_built_up_area  bedRoom  \\\n",
       "29     594.0          73.00        66.00                  NaN        2   \n",
       "104    958.0          81.00          NaN                 89.0        2   \n",
       "131   1935.0         195.00          NaN                215.0        3   \n",
       "157    926.0         118.00        86.00                  NaN        3   \n",
       "182   1370.0         141.00       127.30                  NaN        3   \n",
       "263   1260.0         140.00          NaN                  NaN        3   \n",
       "296    990.0          97.00        92.00                  NaN        2   \n",
       "412   1944.0         195.00          NaN                216.0        3   \n",
       "1902   820.0          85.00        76.44                  NaN        2   \n",
       "1914  1167.0         120.00       108.40                  NaN        2   \n",
       "1970  2153.0         222.00       200.00                  NaN        3   \n",
       "1972   926.0         113.00        86.00                145.0        3   \n",
       "2032   835.0          86.00        77.53                  NaN        2   \n",
       "2102  3150.0         389.00       350.00                  NaN        4   \n",
       "2241   904.0          93.00        84.01                  NaN        2   \n",
       "2249   898.0          85.00        76.44                  NaN        2   \n",
       "2262  2214.0         273.00       246.00                  NaN        3   \n",
       "2399   900.0         111.00       100.00                  NaN        3   \n",
       "2405   995.0         103.00        92.44                  NaN        2   \n",
       "2435  1582.0         138.00       124.00                  NaN        3   \n",
       "2516   832.0          86.00        77.31                  NaN        2   \n",
       "2519  1620.0         200.00       180.00                  NaN        3   \n",
       "2626   823.0          85.00        76.44                  NaN        2   \n",
       "2653   990.0         102.00        92.00                  NaN        2   \n",
       "2718  1159.0         129.42       107.70                  NaN        3   \n",
       "2739  1733.0         133.00       108.40                161.0        2   \n",
       "\n",
       "      bathroom balcony  extra_rooms  price  \n",
       "29           2       2            0   1.60  \n",
       "104          2       3            0   1.10  \n",
       "131          3       2            0   2.50  \n",
       "157          2      3+            1   1.45  \n",
       "182          3       3            0   1.80  \n",
       "263          3       2            0   0.70  \n",
       "296          2       1            0   1.05  \n",
       "412          3       2            1   2.40  \n",
       "1902         2       2            0   1.31  \n",
       "1914         2       1            1   1.15  \n",
       "1970         3       3            1   3.15  \n",
       "1972         2      3+            0   1.40  \n",
       "2032         2       3            0   1.20  \n",
       "2102         4      3+            0   4.49  \n",
       "2241         2       3            1   1.47  \n",
       "2249         2       0            0   1.20  \n",
       "2262         2      3+            0   1.50  \n",
       "2399         2       2            0   0.48  \n",
       "2405         2       2            0   1.15  \n",
       "2435         3      3+            0   2.65  \n",
       "2516         2       3            1   0.82  \n",
       "2519         3       2            0   1.20  \n",
       "2626         2       3            0   1.08  \n",
       "2653         2       3            0   1.35  \n",
       "2718         4      3+            1   1.62  \n",
       "2739         2      3+            1   1.45  "
      ]
     },
     "execution_count": 96,
     "metadata": {},
     "output_type": "execute_result"
    }
   ],
   "source": [
    "df[((df['area']/df['built_up_area']) >= 1.5) & (df['built_up_area'] < 600)][['area', 'built_up_area', 'carpet_area', 'super_built_up_area', 'bedRoom', 'bathroom', 'balcony', 'extra_rooms', 'price']]"
   ]
  },
  {
   "cell_type": "markdown",
   "metadata": {},
   "source": [
    "Comments: These rows very less built up area which is unrealistic. So, Replace these rows built_up_area by area"
   ]
  },
  {
   "cell_type": "code",
   "execution_count": 97,
   "metadata": {},
   "outputs": [],
   "source": [
    "\n",
    "anamoly_df = df[((df['area']/df['built_up_area']) >= 1.5) & (df['built_up_area'] < 600)]"
   ]
  },
  {
   "cell_type": "code",
   "execution_count": 98,
   "metadata": {},
   "outputs": [
    {
     "data": {
      "text/html": [
       "<div>\n",
       "<style scoped>\n",
       "    .dataframe tbody tr th:only-of-type {\n",
       "        vertical-align: middle;\n",
       "    }\n",
       "\n",
       "    .dataframe tbody tr th {\n",
       "        vertical-align: top;\n",
       "    }\n",
       "\n",
       "    .dataframe thead th {\n",
       "        text-align: right;\n",
       "    }\n",
       "</style>\n",
       "<table border=\"1\" class=\"dataframe\">\n",
       "  <thead>\n",
       "    <tr style=\"text-align: right;\">\n",
       "      <th></th>\n",
       "      <th>area</th>\n",
       "      <th>built_up_area</th>\n",
       "      <th>carpet_area</th>\n",
       "      <th>super_built_up_area</th>\n",
       "      <th>bedRoom</th>\n",
       "      <th>bathroom</th>\n",
       "      <th>balcony</th>\n",
       "      <th>extra_rooms</th>\n",
       "      <th>price</th>\n",
       "    </tr>\n",
       "  </thead>\n",
       "  <tbody>\n",
       "    <tr>\n",
       "      <th>29</th>\n",
       "      <td>594.0</td>\n",
       "      <td>73.00</td>\n",
       "      <td>66.00</td>\n",
       "      <td>NaN</td>\n",
       "      <td>2</td>\n",
       "      <td>2</td>\n",
       "      <td>2</td>\n",
       "      <td>0</td>\n",
       "      <td>1.60</td>\n",
       "    </tr>\n",
       "    <tr>\n",
       "      <th>104</th>\n",
       "      <td>958.0</td>\n",
       "      <td>81.00</td>\n",
       "      <td>NaN</td>\n",
       "      <td>89.0</td>\n",
       "      <td>2</td>\n",
       "      <td>2</td>\n",
       "      <td>3</td>\n",
       "      <td>0</td>\n",
       "      <td>1.10</td>\n",
       "    </tr>\n",
       "    <tr>\n",
       "      <th>131</th>\n",
       "      <td>1935.0</td>\n",
       "      <td>195.00</td>\n",
       "      <td>NaN</td>\n",
       "      <td>215.0</td>\n",
       "      <td>3</td>\n",
       "      <td>3</td>\n",
       "      <td>2</td>\n",
       "      <td>0</td>\n",
       "      <td>2.50</td>\n",
       "    </tr>\n",
       "    <tr>\n",
       "      <th>157</th>\n",
       "      <td>926.0</td>\n",
       "      <td>118.00</td>\n",
       "      <td>86.00</td>\n",
       "      <td>NaN</td>\n",
       "      <td>3</td>\n",
       "      <td>2</td>\n",
       "      <td>3+</td>\n",
       "      <td>1</td>\n",
       "      <td>1.45</td>\n",
       "    </tr>\n",
       "    <tr>\n",
       "      <th>182</th>\n",
       "      <td>1370.0</td>\n",
       "      <td>141.00</td>\n",
       "      <td>127.30</td>\n",
       "      <td>NaN</td>\n",
       "      <td>3</td>\n",
       "      <td>3</td>\n",
       "      <td>3</td>\n",
       "      <td>0</td>\n",
       "      <td>1.80</td>\n",
       "    </tr>\n",
       "    <tr>\n",
       "      <th>263</th>\n",
       "      <td>1260.0</td>\n",
       "      <td>140.00</td>\n",
       "      <td>NaN</td>\n",
       "      <td>NaN</td>\n",
       "      <td>3</td>\n",
       "      <td>3</td>\n",
       "      <td>2</td>\n",
       "      <td>0</td>\n",
       "      <td>0.70</td>\n",
       "    </tr>\n",
       "    <tr>\n",
       "      <th>296</th>\n",
       "      <td>990.0</td>\n",
       "      <td>97.00</td>\n",
       "      <td>92.00</td>\n",
       "      <td>NaN</td>\n",
       "      <td>2</td>\n",
       "      <td>2</td>\n",
       "      <td>1</td>\n",
       "      <td>0</td>\n",
       "      <td>1.05</td>\n",
       "    </tr>\n",
       "    <tr>\n",
       "      <th>412</th>\n",
       "      <td>1944.0</td>\n",
       "      <td>195.00</td>\n",
       "      <td>NaN</td>\n",
       "      <td>216.0</td>\n",
       "      <td>3</td>\n",
       "      <td>3</td>\n",
       "      <td>2</td>\n",
       "      <td>1</td>\n",
       "      <td>2.40</td>\n",
       "    </tr>\n",
       "    <tr>\n",
       "      <th>1902</th>\n",
       "      <td>820.0</td>\n",
       "      <td>85.00</td>\n",
       "      <td>76.44</td>\n",
       "      <td>NaN</td>\n",
       "      <td>2</td>\n",
       "      <td>2</td>\n",
       "      <td>2</td>\n",
       "      <td>0</td>\n",
       "      <td>1.31</td>\n",
       "    </tr>\n",
       "    <tr>\n",
       "      <th>1914</th>\n",
       "      <td>1167.0</td>\n",
       "      <td>120.00</td>\n",
       "      <td>108.40</td>\n",
       "      <td>NaN</td>\n",
       "      <td>2</td>\n",
       "      <td>2</td>\n",
       "      <td>1</td>\n",
       "      <td>1</td>\n",
       "      <td>1.15</td>\n",
       "    </tr>\n",
       "    <tr>\n",
       "      <th>1970</th>\n",
       "      <td>2153.0</td>\n",
       "      <td>222.00</td>\n",
       "      <td>200.00</td>\n",
       "      <td>NaN</td>\n",
       "      <td>3</td>\n",
       "      <td>3</td>\n",
       "      <td>3</td>\n",
       "      <td>1</td>\n",
       "      <td>3.15</td>\n",
       "    </tr>\n",
       "    <tr>\n",
       "      <th>1972</th>\n",
       "      <td>926.0</td>\n",
       "      <td>113.00</td>\n",
       "      <td>86.00</td>\n",
       "      <td>145.0</td>\n",
       "      <td>3</td>\n",
       "      <td>2</td>\n",
       "      <td>3+</td>\n",
       "      <td>0</td>\n",
       "      <td>1.40</td>\n",
       "    </tr>\n",
       "    <tr>\n",
       "      <th>2032</th>\n",
       "      <td>835.0</td>\n",
       "      <td>86.00</td>\n",
       "      <td>77.53</td>\n",
       "      <td>NaN</td>\n",
       "      <td>2</td>\n",
       "      <td>2</td>\n",
       "      <td>3</td>\n",
       "      <td>0</td>\n",
       "      <td>1.20</td>\n",
       "    </tr>\n",
       "    <tr>\n",
       "      <th>2102</th>\n",
       "      <td>3150.0</td>\n",
       "      <td>389.00</td>\n",
       "      <td>350.00</td>\n",
       "      <td>NaN</td>\n",
       "      <td>4</td>\n",
       "      <td>4</td>\n",
       "      <td>3+</td>\n",
       "      <td>0</td>\n",
       "      <td>4.49</td>\n",
       "    </tr>\n",
       "    <tr>\n",
       "      <th>2241</th>\n",
       "      <td>904.0</td>\n",
       "      <td>93.00</td>\n",
       "      <td>84.01</td>\n",
       "      <td>NaN</td>\n",
       "      <td>2</td>\n",
       "      <td>2</td>\n",
       "      <td>3</td>\n",
       "      <td>1</td>\n",
       "      <td>1.47</td>\n",
       "    </tr>\n",
       "    <tr>\n",
       "      <th>2249</th>\n",
       "      <td>898.0</td>\n",
       "      <td>85.00</td>\n",
       "      <td>76.44</td>\n",
       "      <td>NaN</td>\n",
       "      <td>2</td>\n",
       "      <td>2</td>\n",
       "      <td>0</td>\n",
       "      <td>0</td>\n",
       "      <td>1.20</td>\n",
       "    </tr>\n",
       "    <tr>\n",
       "      <th>2262</th>\n",
       "      <td>2214.0</td>\n",
       "      <td>273.00</td>\n",
       "      <td>246.00</td>\n",
       "      <td>NaN</td>\n",
       "      <td>3</td>\n",
       "      <td>2</td>\n",
       "      <td>3+</td>\n",
       "      <td>0</td>\n",
       "      <td>1.50</td>\n",
       "    </tr>\n",
       "    <tr>\n",
       "      <th>2399</th>\n",
       "      <td>900.0</td>\n",
       "      <td>111.00</td>\n",
       "      <td>100.00</td>\n",
       "      <td>NaN</td>\n",
       "      <td>3</td>\n",
       "      <td>2</td>\n",
       "      <td>2</td>\n",
       "      <td>0</td>\n",
       "      <td>0.48</td>\n",
       "    </tr>\n",
       "    <tr>\n",
       "      <th>2405</th>\n",
       "      <td>995.0</td>\n",
       "      <td>103.00</td>\n",
       "      <td>92.44</td>\n",
       "      <td>NaN</td>\n",
       "      <td>2</td>\n",
       "      <td>2</td>\n",
       "      <td>2</td>\n",
       "      <td>0</td>\n",
       "      <td>1.15</td>\n",
       "    </tr>\n",
       "    <tr>\n",
       "      <th>2435</th>\n",
       "      <td>1582.0</td>\n",
       "      <td>138.00</td>\n",
       "      <td>124.00</td>\n",
       "      <td>NaN</td>\n",
       "      <td>3</td>\n",
       "      <td>3</td>\n",
       "      <td>3+</td>\n",
       "      <td>0</td>\n",
       "      <td>2.65</td>\n",
       "    </tr>\n",
       "    <tr>\n",
       "      <th>2516</th>\n",
       "      <td>832.0</td>\n",
       "      <td>86.00</td>\n",
       "      <td>77.31</td>\n",
       "      <td>NaN</td>\n",
       "      <td>2</td>\n",
       "      <td>2</td>\n",
       "      <td>3</td>\n",
       "      <td>1</td>\n",
       "      <td>0.82</td>\n",
       "    </tr>\n",
       "    <tr>\n",
       "      <th>2519</th>\n",
       "      <td>1620.0</td>\n",
       "      <td>200.00</td>\n",
       "      <td>180.00</td>\n",
       "      <td>NaN</td>\n",
       "      <td>3</td>\n",
       "      <td>3</td>\n",
       "      <td>2</td>\n",
       "      <td>0</td>\n",
       "      <td>1.20</td>\n",
       "    </tr>\n",
       "    <tr>\n",
       "      <th>2626</th>\n",
       "      <td>823.0</td>\n",
       "      <td>85.00</td>\n",
       "      <td>76.44</td>\n",
       "      <td>NaN</td>\n",
       "      <td>2</td>\n",
       "      <td>2</td>\n",
       "      <td>3</td>\n",
       "      <td>0</td>\n",
       "      <td>1.08</td>\n",
       "    </tr>\n",
       "    <tr>\n",
       "      <th>2653</th>\n",
       "      <td>990.0</td>\n",
       "      <td>102.00</td>\n",
       "      <td>92.00</td>\n",
       "      <td>NaN</td>\n",
       "      <td>2</td>\n",
       "      <td>2</td>\n",
       "      <td>3</td>\n",
       "      <td>0</td>\n",
       "      <td>1.35</td>\n",
       "    </tr>\n",
       "    <tr>\n",
       "      <th>2718</th>\n",
       "      <td>1159.0</td>\n",
       "      <td>129.42</td>\n",
       "      <td>107.70</td>\n",
       "      <td>NaN</td>\n",
       "      <td>3</td>\n",
       "      <td>4</td>\n",
       "      <td>3+</td>\n",
       "      <td>1</td>\n",
       "      <td>1.62</td>\n",
       "    </tr>\n",
       "    <tr>\n",
       "      <th>2739</th>\n",
       "      <td>1733.0</td>\n",
       "      <td>133.00</td>\n",
       "      <td>108.40</td>\n",
       "      <td>161.0</td>\n",
       "      <td>2</td>\n",
       "      <td>2</td>\n",
       "      <td>3+</td>\n",
       "      <td>1</td>\n",
       "      <td>1.45</td>\n",
       "    </tr>\n",
       "  </tbody>\n",
       "</table>\n",
       "</div>"
      ],
      "text/plain": [
       "        area  built_up_area  carpet_area  super_built_up_area  bedRoom  \\\n",
       "29     594.0          73.00        66.00                  NaN        2   \n",
       "104    958.0          81.00          NaN                 89.0        2   \n",
       "131   1935.0         195.00          NaN                215.0        3   \n",
       "157    926.0         118.00        86.00                  NaN        3   \n",
       "182   1370.0         141.00       127.30                  NaN        3   \n",
       "263   1260.0         140.00          NaN                  NaN        3   \n",
       "296    990.0          97.00        92.00                  NaN        2   \n",
       "412   1944.0         195.00          NaN                216.0        3   \n",
       "1902   820.0          85.00        76.44                  NaN        2   \n",
       "1914  1167.0         120.00       108.40                  NaN        2   \n",
       "1970  2153.0         222.00       200.00                  NaN        3   \n",
       "1972   926.0         113.00        86.00                145.0        3   \n",
       "2032   835.0          86.00        77.53                  NaN        2   \n",
       "2102  3150.0         389.00       350.00                  NaN        4   \n",
       "2241   904.0          93.00        84.01                  NaN        2   \n",
       "2249   898.0          85.00        76.44                  NaN        2   \n",
       "2262  2214.0         273.00       246.00                  NaN        3   \n",
       "2399   900.0         111.00       100.00                  NaN        3   \n",
       "2405   995.0         103.00        92.44                  NaN        2   \n",
       "2435  1582.0         138.00       124.00                  NaN        3   \n",
       "2516   832.0          86.00        77.31                  NaN        2   \n",
       "2519  1620.0         200.00       180.00                  NaN        3   \n",
       "2626   823.0          85.00        76.44                  NaN        2   \n",
       "2653   990.0         102.00        92.00                  NaN        2   \n",
       "2718  1159.0         129.42       107.70                  NaN        3   \n",
       "2739  1733.0         133.00       108.40                161.0        2   \n",
       "\n",
       "      bathroom balcony  extra_rooms  price  \n",
       "29           2       2            0   1.60  \n",
       "104          2       3            0   1.10  \n",
       "131          3       2            0   2.50  \n",
       "157          2      3+            1   1.45  \n",
       "182          3       3            0   1.80  \n",
       "263          3       2            0   0.70  \n",
       "296          2       1            0   1.05  \n",
       "412          3       2            1   2.40  \n",
       "1902         2       2            0   1.31  \n",
       "1914         2       1            1   1.15  \n",
       "1970         3       3            1   3.15  \n",
       "1972         2      3+            0   1.40  \n",
       "2032         2       3            0   1.20  \n",
       "2102         4      3+            0   4.49  \n",
       "2241         2       3            1   1.47  \n",
       "2249         2       0            0   1.20  \n",
       "2262         2      3+            0   1.50  \n",
       "2399         2       2            0   0.48  \n",
       "2405         2       2            0   1.15  \n",
       "2435         3      3+            0   2.65  \n",
       "2516         2       3            1   0.82  \n",
       "2519         3       2            0   1.20  \n",
       "2626         2       3            0   1.08  \n",
       "2653         2       3            0   1.35  \n",
       "2718         4      3+            1   1.62  \n",
       "2739         2      3+            1   1.45  "
      ]
     },
     "execution_count": 98,
     "metadata": {},
     "output_type": "execute_result"
    }
   ],
   "source": [
    "anamoly_df[['area', 'built_up_area', 'carpet_area', 'super_built_up_area', 'bedRoom', 'bathroom', 'balcony', 'extra_rooms', 'price']]"
   ]
  },
  {
   "cell_type": "code",
   "execution_count": 99,
   "metadata": {},
   "outputs": [
    {
     "name": "stderr",
     "output_type": "stream",
     "text": [
      "/tmp/ipykernel_5417/4230953930.py:1: SettingWithCopyWarning: \n",
      "A value is trying to be set on a copy of a slice from a DataFrame.\n",
      "Try using .loc[row_indexer,col_indexer] = value instead\n",
      "\n",
      "See the caveats in the documentation: https://pandas.pydata.org/pandas-docs/stable/user_guide/indexing.html#returning-a-view-versus-a-copy\n",
      "  anamoly_df['built_up_area'] = anamoly_df['area']\n"
     ]
    }
   ],
   "source": [
    "anamoly_df['built_up_area'] = anamoly_df['area']"
   ]
  },
  {
   "cell_type": "code",
   "execution_count": 100,
   "metadata": {},
   "outputs": [
    {
     "data": {
      "text/html": [
       "<div>\n",
       "<style scoped>\n",
       "    .dataframe tbody tr th:only-of-type {\n",
       "        vertical-align: middle;\n",
       "    }\n",
       "\n",
       "    .dataframe tbody tr th {\n",
       "        vertical-align: top;\n",
       "    }\n",
       "\n",
       "    .dataframe thead th {\n",
       "        text-align: right;\n",
       "    }\n",
       "</style>\n",
       "<table border=\"1\" class=\"dataframe\">\n",
       "  <thead>\n",
       "    <tr style=\"text-align: right;\">\n",
       "      <th></th>\n",
       "      <th>area</th>\n",
       "      <th>built_up_area</th>\n",
       "      <th>carpet_area</th>\n",
       "      <th>super_built_up_area</th>\n",
       "      <th>bedRoom</th>\n",
       "      <th>bathroom</th>\n",
       "      <th>balcony</th>\n",
       "      <th>extra_rooms</th>\n",
       "      <th>price</th>\n",
       "    </tr>\n",
       "  </thead>\n",
       "  <tbody>\n",
       "    <tr>\n",
       "      <th>29</th>\n",
       "      <td>594.0</td>\n",
       "      <td>594.0</td>\n",
       "      <td>66.00</td>\n",
       "      <td>NaN</td>\n",
       "      <td>2</td>\n",
       "      <td>2</td>\n",
       "      <td>2</td>\n",
       "      <td>0</td>\n",
       "      <td>1.60</td>\n",
       "    </tr>\n",
       "    <tr>\n",
       "      <th>104</th>\n",
       "      <td>958.0</td>\n",
       "      <td>958.0</td>\n",
       "      <td>NaN</td>\n",
       "      <td>89.0</td>\n",
       "      <td>2</td>\n",
       "      <td>2</td>\n",
       "      <td>3</td>\n",
       "      <td>0</td>\n",
       "      <td>1.10</td>\n",
       "    </tr>\n",
       "    <tr>\n",
       "      <th>131</th>\n",
       "      <td>1935.0</td>\n",
       "      <td>1935.0</td>\n",
       "      <td>NaN</td>\n",
       "      <td>215.0</td>\n",
       "      <td>3</td>\n",
       "      <td>3</td>\n",
       "      <td>2</td>\n",
       "      <td>0</td>\n",
       "      <td>2.50</td>\n",
       "    </tr>\n",
       "    <tr>\n",
       "      <th>157</th>\n",
       "      <td>926.0</td>\n",
       "      <td>926.0</td>\n",
       "      <td>86.00</td>\n",
       "      <td>NaN</td>\n",
       "      <td>3</td>\n",
       "      <td>2</td>\n",
       "      <td>3+</td>\n",
       "      <td>1</td>\n",
       "      <td>1.45</td>\n",
       "    </tr>\n",
       "    <tr>\n",
       "      <th>182</th>\n",
       "      <td>1370.0</td>\n",
       "      <td>1370.0</td>\n",
       "      <td>127.30</td>\n",
       "      <td>NaN</td>\n",
       "      <td>3</td>\n",
       "      <td>3</td>\n",
       "      <td>3</td>\n",
       "      <td>0</td>\n",
       "      <td>1.80</td>\n",
       "    </tr>\n",
       "    <tr>\n",
       "      <th>263</th>\n",
       "      <td>1260.0</td>\n",
       "      <td>1260.0</td>\n",
       "      <td>NaN</td>\n",
       "      <td>NaN</td>\n",
       "      <td>3</td>\n",
       "      <td>3</td>\n",
       "      <td>2</td>\n",
       "      <td>0</td>\n",
       "      <td>0.70</td>\n",
       "    </tr>\n",
       "    <tr>\n",
       "      <th>296</th>\n",
       "      <td>990.0</td>\n",
       "      <td>990.0</td>\n",
       "      <td>92.00</td>\n",
       "      <td>NaN</td>\n",
       "      <td>2</td>\n",
       "      <td>2</td>\n",
       "      <td>1</td>\n",
       "      <td>0</td>\n",
       "      <td>1.05</td>\n",
       "    </tr>\n",
       "    <tr>\n",
       "      <th>412</th>\n",
       "      <td>1944.0</td>\n",
       "      <td>1944.0</td>\n",
       "      <td>NaN</td>\n",
       "      <td>216.0</td>\n",
       "      <td>3</td>\n",
       "      <td>3</td>\n",
       "      <td>2</td>\n",
       "      <td>1</td>\n",
       "      <td>2.40</td>\n",
       "    </tr>\n",
       "    <tr>\n",
       "      <th>1902</th>\n",
       "      <td>820.0</td>\n",
       "      <td>820.0</td>\n",
       "      <td>76.44</td>\n",
       "      <td>NaN</td>\n",
       "      <td>2</td>\n",
       "      <td>2</td>\n",
       "      <td>2</td>\n",
       "      <td>0</td>\n",
       "      <td>1.31</td>\n",
       "    </tr>\n",
       "    <tr>\n",
       "      <th>1914</th>\n",
       "      <td>1167.0</td>\n",
       "      <td>1167.0</td>\n",
       "      <td>108.40</td>\n",
       "      <td>NaN</td>\n",
       "      <td>2</td>\n",
       "      <td>2</td>\n",
       "      <td>1</td>\n",
       "      <td>1</td>\n",
       "      <td>1.15</td>\n",
       "    </tr>\n",
       "    <tr>\n",
       "      <th>1970</th>\n",
       "      <td>2153.0</td>\n",
       "      <td>2153.0</td>\n",
       "      <td>200.00</td>\n",
       "      <td>NaN</td>\n",
       "      <td>3</td>\n",
       "      <td>3</td>\n",
       "      <td>3</td>\n",
       "      <td>1</td>\n",
       "      <td>3.15</td>\n",
       "    </tr>\n",
       "    <tr>\n",
       "      <th>1972</th>\n",
       "      <td>926.0</td>\n",
       "      <td>926.0</td>\n",
       "      <td>86.00</td>\n",
       "      <td>145.0</td>\n",
       "      <td>3</td>\n",
       "      <td>2</td>\n",
       "      <td>3+</td>\n",
       "      <td>0</td>\n",
       "      <td>1.40</td>\n",
       "    </tr>\n",
       "    <tr>\n",
       "      <th>2032</th>\n",
       "      <td>835.0</td>\n",
       "      <td>835.0</td>\n",
       "      <td>77.53</td>\n",
       "      <td>NaN</td>\n",
       "      <td>2</td>\n",
       "      <td>2</td>\n",
       "      <td>3</td>\n",
       "      <td>0</td>\n",
       "      <td>1.20</td>\n",
       "    </tr>\n",
       "    <tr>\n",
       "      <th>2102</th>\n",
       "      <td>3150.0</td>\n",
       "      <td>3150.0</td>\n",
       "      <td>350.00</td>\n",
       "      <td>NaN</td>\n",
       "      <td>4</td>\n",
       "      <td>4</td>\n",
       "      <td>3+</td>\n",
       "      <td>0</td>\n",
       "      <td>4.49</td>\n",
       "    </tr>\n",
       "    <tr>\n",
       "      <th>2241</th>\n",
       "      <td>904.0</td>\n",
       "      <td>904.0</td>\n",
       "      <td>84.01</td>\n",
       "      <td>NaN</td>\n",
       "      <td>2</td>\n",
       "      <td>2</td>\n",
       "      <td>3</td>\n",
       "      <td>1</td>\n",
       "      <td>1.47</td>\n",
       "    </tr>\n",
       "    <tr>\n",
       "      <th>2249</th>\n",
       "      <td>898.0</td>\n",
       "      <td>898.0</td>\n",
       "      <td>76.44</td>\n",
       "      <td>NaN</td>\n",
       "      <td>2</td>\n",
       "      <td>2</td>\n",
       "      <td>0</td>\n",
       "      <td>0</td>\n",
       "      <td>1.20</td>\n",
       "    </tr>\n",
       "    <tr>\n",
       "      <th>2262</th>\n",
       "      <td>2214.0</td>\n",
       "      <td>2214.0</td>\n",
       "      <td>246.00</td>\n",
       "      <td>NaN</td>\n",
       "      <td>3</td>\n",
       "      <td>2</td>\n",
       "      <td>3+</td>\n",
       "      <td>0</td>\n",
       "      <td>1.50</td>\n",
       "    </tr>\n",
       "    <tr>\n",
       "      <th>2399</th>\n",
       "      <td>900.0</td>\n",
       "      <td>900.0</td>\n",
       "      <td>100.00</td>\n",
       "      <td>NaN</td>\n",
       "      <td>3</td>\n",
       "      <td>2</td>\n",
       "      <td>2</td>\n",
       "      <td>0</td>\n",
       "      <td>0.48</td>\n",
       "    </tr>\n",
       "    <tr>\n",
       "      <th>2405</th>\n",
       "      <td>995.0</td>\n",
       "      <td>995.0</td>\n",
       "      <td>92.44</td>\n",
       "      <td>NaN</td>\n",
       "      <td>2</td>\n",
       "      <td>2</td>\n",
       "      <td>2</td>\n",
       "      <td>0</td>\n",
       "      <td>1.15</td>\n",
       "    </tr>\n",
       "    <tr>\n",
       "      <th>2435</th>\n",
       "      <td>1582.0</td>\n",
       "      <td>1582.0</td>\n",
       "      <td>124.00</td>\n",
       "      <td>NaN</td>\n",
       "      <td>3</td>\n",
       "      <td>3</td>\n",
       "      <td>3+</td>\n",
       "      <td>0</td>\n",
       "      <td>2.65</td>\n",
       "    </tr>\n",
       "    <tr>\n",
       "      <th>2516</th>\n",
       "      <td>832.0</td>\n",
       "      <td>832.0</td>\n",
       "      <td>77.31</td>\n",
       "      <td>NaN</td>\n",
       "      <td>2</td>\n",
       "      <td>2</td>\n",
       "      <td>3</td>\n",
       "      <td>1</td>\n",
       "      <td>0.82</td>\n",
       "    </tr>\n",
       "    <tr>\n",
       "      <th>2519</th>\n",
       "      <td>1620.0</td>\n",
       "      <td>1620.0</td>\n",
       "      <td>180.00</td>\n",
       "      <td>NaN</td>\n",
       "      <td>3</td>\n",
       "      <td>3</td>\n",
       "      <td>2</td>\n",
       "      <td>0</td>\n",
       "      <td>1.20</td>\n",
       "    </tr>\n",
       "    <tr>\n",
       "      <th>2626</th>\n",
       "      <td>823.0</td>\n",
       "      <td>823.0</td>\n",
       "      <td>76.44</td>\n",
       "      <td>NaN</td>\n",
       "      <td>2</td>\n",
       "      <td>2</td>\n",
       "      <td>3</td>\n",
       "      <td>0</td>\n",
       "      <td>1.08</td>\n",
       "    </tr>\n",
       "    <tr>\n",
       "      <th>2653</th>\n",
       "      <td>990.0</td>\n",
       "      <td>990.0</td>\n",
       "      <td>92.00</td>\n",
       "      <td>NaN</td>\n",
       "      <td>2</td>\n",
       "      <td>2</td>\n",
       "      <td>3</td>\n",
       "      <td>0</td>\n",
       "      <td>1.35</td>\n",
       "    </tr>\n",
       "    <tr>\n",
       "      <th>2718</th>\n",
       "      <td>1159.0</td>\n",
       "      <td>1159.0</td>\n",
       "      <td>107.70</td>\n",
       "      <td>NaN</td>\n",
       "      <td>3</td>\n",
       "      <td>4</td>\n",
       "      <td>3+</td>\n",
       "      <td>1</td>\n",
       "      <td>1.62</td>\n",
       "    </tr>\n",
       "    <tr>\n",
       "      <th>2739</th>\n",
       "      <td>1733.0</td>\n",
       "      <td>1733.0</td>\n",
       "      <td>108.40</td>\n",
       "      <td>161.0</td>\n",
       "      <td>2</td>\n",
       "      <td>2</td>\n",
       "      <td>3+</td>\n",
       "      <td>1</td>\n",
       "      <td>1.45</td>\n",
       "    </tr>\n",
       "  </tbody>\n",
       "</table>\n",
       "</div>"
      ],
      "text/plain": [
       "        area  built_up_area  carpet_area  super_built_up_area  bedRoom  \\\n",
       "29     594.0          594.0        66.00                  NaN        2   \n",
       "104    958.0          958.0          NaN                 89.0        2   \n",
       "131   1935.0         1935.0          NaN                215.0        3   \n",
       "157    926.0          926.0        86.00                  NaN        3   \n",
       "182   1370.0         1370.0       127.30                  NaN        3   \n",
       "263   1260.0         1260.0          NaN                  NaN        3   \n",
       "296    990.0          990.0        92.00                  NaN        2   \n",
       "412   1944.0         1944.0          NaN                216.0        3   \n",
       "1902   820.0          820.0        76.44                  NaN        2   \n",
       "1914  1167.0         1167.0       108.40                  NaN        2   \n",
       "1970  2153.0         2153.0       200.00                  NaN        3   \n",
       "1972   926.0          926.0        86.00                145.0        3   \n",
       "2032   835.0          835.0        77.53                  NaN        2   \n",
       "2102  3150.0         3150.0       350.00                  NaN        4   \n",
       "2241   904.0          904.0        84.01                  NaN        2   \n",
       "2249   898.0          898.0        76.44                  NaN        2   \n",
       "2262  2214.0         2214.0       246.00                  NaN        3   \n",
       "2399   900.0          900.0       100.00                  NaN        3   \n",
       "2405   995.0          995.0        92.44                  NaN        2   \n",
       "2435  1582.0         1582.0       124.00                  NaN        3   \n",
       "2516   832.0          832.0        77.31                  NaN        2   \n",
       "2519  1620.0         1620.0       180.00                  NaN        3   \n",
       "2626   823.0          823.0        76.44                  NaN        2   \n",
       "2653   990.0          990.0        92.00                  NaN        2   \n",
       "2718  1159.0         1159.0       107.70                  NaN        3   \n",
       "2739  1733.0         1733.0       108.40                161.0        2   \n",
       "\n",
       "      bathroom balcony  extra_rooms  price  \n",
       "29           2       2            0   1.60  \n",
       "104          2       3            0   1.10  \n",
       "131          3       2            0   2.50  \n",
       "157          2      3+            1   1.45  \n",
       "182          3       3            0   1.80  \n",
       "263          3       2            0   0.70  \n",
       "296          2       1            0   1.05  \n",
       "412          3       2            1   2.40  \n",
       "1902         2       2            0   1.31  \n",
       "1914         2       1            1   1.15  \n",
       "1970         3       3            1   3.15  \n",
       "1972         2      3+            0   1.40  \n",
       "2032         2       3            0   1.20  \n",
       "2102         4      3+            0   4.49  \n",
       "2241         2       3            1   1.47  \n",
       "2249         2       0            0   1.20  \n",
       "2262         2      3+            0   1.50  \n",
       "2399         2       2            0   0.48  \n",
       "2405         2       2            0   1.15  \n",
       "2435         3      3+            0   2.65  \n",
       "2516         2       3            1   0.82  \n",
       "2519         3       2            0   1.20  \n",
       "2626         2       3            0   1.08  \n",
       "2653         2       3            0   1.35  \n",
       "2718         4      3+            1   1.62  \n",
       "2739         2      3+            1   1.45  "
      ]
     },
     "execution_count": 100,
     "metadata": {},
     "output_type": "execute_result"
    }
   ],
   "source": [
    "anamoly_df[['area', 'built_up_area', 'carpet_area', 'super_built_up_area', 'bedRoom', 'bathroom', 'balcony', 'extra_rooms', 'price']]"
   ]
  },
  {
   "cell_type": "code",
   "execution_count": 101,
   "metadata": {},
   "outputs": [],
   "source": [
    "df.update(anamoly_df)"
   ]
  },
  {
   "cell_type": "code",
   "execution_count": 102,
   "metadata": {},
   "outputs": [
    {
     "data": {
      "text/plain": [
       "<Axes: xlabel='built_up_area', ylabel='price'>"
      ]
     },
     "execution_count": 102,
     "metadata": {},
     "output_type": "execute_result"
    },
    {
     "data": {
      "image/png": "[encoded data removed]",
      "text/plain": [
       "<Figure size 640x480 with 1 Axes>"
      ]
     },
     "metadata": {},
     "output_type": "display_data"
    }
   ],
   "source": [
    "sns.scatterplot(x = df['built_up_area'],y = df['price'])"
   ]
  },
  {
   "cell_type": "code",
   "execution_count": 103,
   "metadata": {},
   "outputs": [
    {
     "data": {
      "text/plain": [
       "Index(['society', 'price', 'sector', 'price_per_sqft', 'area', 'areaWithType',\n",
       "       'bedRoom', 'bathroom', 'balcony', 'extra_rooms', 'floorNum', 'facing',\n",
       "       'agePossession', 'super_built_up_area', 'built_up_area', 'carpet_area',\n",
       "       'furnishing_type', 'luxury_score'],\n",
       "      dtype='object')"
      ]
     },
     "execution_count": 103,
     "metadata": {},
     "output_type": "execute_result"
    }
   ],
   "source": [
    "df.columns"
   ]
  },
  {
   "cell_type": "code",
   "execution_count": 104,
   "metadata": {},
   "outputs": [],
   "source": [
    "# Drop area, areaWithType, super_built_up_area, carpet_area columns\n",
    "df.drop(columns=['area', 'areaWithType', 'super_built_up_area', 'carpet_area'], inplace=True)"
   ]
  },
  {
   "cell_type": "code",
   "execution_count": 105,
   "metadata": {},
   "outputs": [
    {
     "data": {
      "text/plain": [
       "Index(['society', 'price', 'sector', 'price_per_sqft', 'bedRoom', 'bathroom',\n",
       "       'balcony', 'extra_rooms', 'floorNum', 'facing', 'agePossession',\n",
       "       'built_up_area', 'furnishing_type', 'luxury_score'],\n",
       "      dtype='object')"
      ]
     },
     "execution_count": 105,
     "metadata": {},
     "output_type": "execute_result"
    }
   ],
   "source": [
    "df.columns"
   ]
  },
  {
   "cell_type": "code",
   "execution_count": 106,
   "metadata": {},
   "outputs": [
    {
     "data": {
      "text/plain": [
       "society              0\n",
       "price                0\n",
       "sector               0\n",
       "price_per_sqft       0\n",
       "bedRoom              0\n",
       "bathroom             0\n",
       "balcony              0\n",
       "extra_rooms          0\n",
       "floorNum             0\n",
       "facing             805\n",
       "agePossession        0\n",
       "built_up_area        0\n",
       "furnishing_type      0\n",
       "luxury_score         0\n",
       "dtype: int64"
      ]
     },
     "execution_count": 106,
     "metadata": {},
     "output_type": "execute_result"
    }
   ],
   "source": [
    "df.isnull().sum()"
   ]
  },
  {
   "cell_type": "markdown",
   "metadata": {},
   "source": [
    "floorNum"
   ]
  },
  {
   "cell_type": "code",
   "execution_count": 107,
   "metadata": {},
   "outputs": [
    {
     "data": {
      "text/plain": [
       "np.int64(0)"
      ]
     },
     "execution_count": 107,
     "metadata": {},
     "output_type": "execute_result"
    }
   ],
   "source": [
    "df['floorNum'].isnull().sum()"
   ]
  },
  {
   "cell_type": "code",
   "execution_count": 108,
   "metadata": {},
   "outputs": [
    {
     "data": {
      "text/plain": [
       "floorNum\n",
       "0     125\n",
       "1     206\n",
       "2     243\n",
       "3     231\n",
       "4     192\n",
       "5     163\n",
       "6     181\n",
       "7     180\n",
       "8     196\n",
       "9     162\n",
       "10    176\n",
       "11    111\n",
       "12    156\n",
       "13     39\n",
       "14    109\n",
       "15     80\n",
       "16     51\n",
       "17     47\n",
       "18     37\n",
       "19     33\n",
       "20     25\n",
       "21     15\n",
       "22     13\n",
       "23     14\n",
       "24     11\n",
       "25      9\n",
       "26      5\n",
       "27      7\n",
       "28      4\n",
       "29      3\n",
       "30      5\n",
       "31      3\n",
       "32      2\n",
       "33      3\n",
       "34      2\n",
       "35      2\n",
       "38      1\n",
       "39      2\n",
       "40      1\n",
       "43      2\n",
       "44      1\n",
       "45      1\n",
       "Name: count, dtype: int64"
      ]
     },
     "execution_count": 108,
     "metadata": {},
     "output_type": "execute_result"
    }
   ],
   "source": [
    "df['floorNum'].value_counts().sort_index()"
   ]
  },
  {
   "cell_type": "code",
   "execution_count": 109,
   "metadata": {},
   "outputs": [
    {
     "data": {
      "text/plain": [
       "(2849, 14)"
      ]
     },
     "execution_count": 109,
     "metadata": {},
     "output_type": "execute_result"
    }
   ],
   "source": [
    "df.shape"
   ]
  },
  {
   "cell_type": "markdown",
   "metadata": {},
   "source": [
    "facing"
   ]
  },
  {
   "cell_type": "code",
   "execution_count": 110,
   "metadata": {},
   "outputs": [
    {
     "data": {
      "text/plain": [
       "np.int64(805)"
      ]
     },
     "execution_count": 110,
     "metadata": {},
     "output_type": "execute_result"
    }
   ],
   "source": [
    "df['facing'].isnull().sum()"
   ]
  },
  {
   "cell_type": "markdown",
   "metadata": {},
   "source": [
    "Dropping 'facing' column"
   ]
  },
  {
   "cell_type": "code",
   "execution_count": 111,
   "metadata": {},
   "outputs": [],
   "source": [
    "df.drop(columns=['facing'],inplace=True)"
   ]
  },
  {
   "cell_type": "code",
   "execution_count": 112,
   "metadata": {},
   "outputs": [
    {
     "data": {
      "text/plain": [
       "Index(['society', 'price', 'sector', 'price_per_sqft', 'bedRoom', 'bathroom',\n",
       "       'balcony', 'extra_rooms', 'floorNum', 'agePossession', 'built_up_area',\n",
       "       'furnishing_type', 'luxury_score'],\n",
       "      dtype='object')"
      ]
     },
     "execution_count": 112,
     "metadata": {},
     "output_type": "execute_result"
    }
   ],
   "source": [
    "df.columns"
   ]
  },
  {
   "cell_type": "code",
   "execution_count": 113,
   "metadata": {},
   "outputs": [
    {
     "data": {
      "text/plain": [
       "society            0\n",
       "price              0\n",
       "sector             0\n",
       "price_per_sqft     0\n",
       "bedRoom            0\n",
       "bathroom           0\n",
       "balcony            0\n",
       "extra_rooms        0\n",
       "floorNum           0\n",
       "agePossession      0\n",
       "built_up_area      0\n",
       "furnishing_type    0\n",
       "luxury_score       0\n",
       "dtype: int64"
      ]
     },
     "execution_count": 113,
     "metadata": {},
     "output_type": "execute_result"
    }
   ],
   "source": [
    "df.isnull().sum()"
   ]
  },
  {
   "cell_type": "markdown",
   "metadata": {},
   "source": [
    "agePossession"
   ]
  },
  {
   "cell_type": "code",
   "execution_count": 114,
   "metadata": {},
   "outputs": [
    {
     "data": {
      "text/plain": [
       "agePossession\n",
       "Relatively New        1441\n",
       "New Property           492\n",
       "Moderately Old         347\n",
       "Under Construction     254\n",
       "Undefined              185\n",
       "Old Property           130\n",
       "Name: count, dtype: int64"
      ]
     },
     "execution_count": 114,
     "metadata": {},
     "output_type": "execute_result"
    }
   ],
   "source": [
    "df['agePossession'].value_counts()"
   ]
  },
  {
   "cell_type": "markdown",
   "metadata": {},
   "source": [
    "Comments: We have to impute the 'undefined' values "
   ]
  },
  {
   "cell_type": "code",
   "execution_count": 115,
   "metadata": {},
   "outputs": [
    {
     "data": {
      "text/html": [
       "<div>\n",
       "<style scoped>\n",
       "    .dataframe tbody tr th:only-of-type {\n",
       "        vertical-align: middle;\n",
       "    }\n",
       "\n",
       "    .dataframe tbody tr th {\n",
       "        vertical-align: top;\n",
       "    }\n",
       "\n",
       "    .dataframe thead th {\n",
       "        text-align: right;\n",
       "    }\n",
       "</style>\n",
       "<table border=\"1\" class=\"dataframe\">\n",
       "  <thead>\n",
       "    <tr style=\"text-align: right;\">\n",
       "      <th></th>\n",
       "      <th>sector</th>\n",
       "      <th>agePossession</th>\n",
       "    </tr>\n",
       "  </thead>\n",
       "  <tbody>\n",
       "    <tr>\n",
       "      <th>5</th>\n",
       "      <td>sector 36</td>\n",
       "      <td>Undefined</td>\n",
       "    </tr>\n",
       "    <tr>\n",
       "      <th>15</th>\n",
       "      <td>sector 108</td>\n",
       "      <td>Undefined</td>\n",
       "    </tr>\n",
       "    <tr>\n",
       "      <th>16</th>\n",
       "      <td>sector 62</td>\n",
       "      <td>Undefined</td>\n",
       "    </tr>\n",
       "    <tr>\n",
       "      <th>24</th>\n",
       "      <td>sector 36</td>\n",
       "      <td>Undefined</td>\n",
       "    </tr>\n",
       "    <tr>\n",
       "      <th>25</th>\n",
       "      <td>sector 65</td>\n",
       "      <td>Undefined</td>\n",
       "    </tr>\n",
       "    <tr>\n",
       "      <th>...</th>\n",
       "      <td>...</td>\n",
       "      <td>...</td>\n",
       "    </tr>\n",
       "    <tr>\n",
       "      <th>2681</th>\n",
       "      <td>sector 4 urban estate</td>\n",
       "      <td>Undefined</td>\n",
       "    </tr>\n",
       "    <tr>\n",
       "      <th>2689</th>\n",
       "      <td>sector 65</td>\n",
       "      <td>Undefined</td>\n",
       "    </tr>\n",
       "    <tr>\n",
       "      <th>2742</th>\n",
       "      <td>sector 99</td>\n",
       "      <td>Undefined</td>\n",
       "    </tr>\n",
       "    <tr>\n",
       "      <th>2743</th>\n",
       "      <td>sector 49</td>\n",
       "      <td>Undefined</td>\n",
       "    </tr>\n",
       "    <tr>\n",
       "      <th>2778</th>\n",
       "      <td>sector 95</td>\n",
       "      <td>Undefined</td>\n",
       "    </tr>\n",
       "  </tbody>\n",
       "</table>\n",
       "<p>185 rows × 2 columns</p>\n",
       "</div>"
      ],
      "text/plain": [
       "                     sector agePossession\n",
       "5                 sector 36     Undefined\n",
       "15               sector 108     Undefined\n",
       "16                sector 62     Undefined\n",
       "24                sector 36     Undefined\n",
       "25                sector 65     Undefined\n",
       "...                     ...           ...\n",
       "2681  sector 4 urban estate     Undefined\n",
       "2689              sector 65     Undefined\n",
       "2742              sector 99     Undefined\n",
       "2743              sector 49     Undefined\n",
       "2778              sector 95     Undefined\n",
       "\n",
       "[185 rows x 2 columns]"
      ]
     },
     "execution_count": 115,
     "metadata": {},
     "output_type": "execute_result"
    }
   ],
   "source": [
    "df[df['agePossession'] == 'Undefined'][['sector', 'agePossession']]"
   ]
  },
  {
   "cell_type": "code",
   "execution_count": 116,
   "metadata": {},
   "outputs": [],
   "source": [
    "# find out the sector of that property, and then in that sector what is the mode 'agePossession' replace with that \n",
    "def mode_based_imputation2(row):\n",
    "    if row['agePossession'] == 'Undefined':\n",
    "        mode_value = df[(df['sector'] == row['sector'])]['agePossession'].mode()\n",
    "        # If mode_value is empty (no mode found), return NaN, otherwise return the mode\n",
    "        if not mode_value.empty:\n",
    "            return mode_value.iloc[0] \n",
    "        else:\n",
    "            return np.nan\n",
    "    else:\n",
    "        return row['agePossession']"
   ]
  },
  {
   "cell_type": "code",
   "execution_count": 117,
   "metadata": {},
   "outputs": [],
   "source": [
    "df['agePossession'] = df.apply(mode_based_imputation2,axis=1)"
   ]
  },
  {
   "cell_type": "code",
   "execution_count": 118,
   "metadata": {},
   "outputs": [
    {
     "data": {
      "text/plain": [
       "agePossession\n",
       "Relatively New        1541\n",
       "New Property           528\n",
       "Moderately Old         360\n",
       "Under Construction     268\n",
       "Old Property           138\n",
       "Undefined               14\n",
       "Name: count, dtype: int64"
      ]
     },
     "execution_count": 118,
     "metadata": {},
     "output_type": "execute_result"
    }
   ],
   "source": [
    "df['agePossession'].value_counts()"
   ]
  },
  {
   "cell_type": "code",
   "execution_count": 119,
   "metadata": {},
   "outputs": [],
   "source": [
    "# remove the rows which has still NaN in 'agePossession'\n",
    "df = df[~(df['agePossession'] == 'Undefined')]"
   ]
  },
  {
   "cell_type": "code",
   "execution_count": 120,
   "metadata": {},
   "outputs": [
    {
     "data": {
      "text/plain": [
       "agePossession\n",
       "Relatively New        1541\n",
       "New Property           528\n",
       "Moderately Old         360\n",
       "Under Construction     268\n",
       "Old Property           138\n",
       "Name: count, dtype: int64"
      ]
     },
     "execution_count": 120,
     "metadata": {},
     "output_type": "execute_result"
    }
   ],
   "source": [
    "df['agePossession'].value_counts()"
   ]
  },
  {
   "cell_type": "code",
   "execution_count": 121,
   "metadata": {},
   "outputs": [
    {
     "data": {
      "text/plain": [
       "(2835, 13)"
      ]
     },
     "execution_count": 121,
     "metadata": {},
     "output_type": "execute_result"
    }
   ],
   "source": [
    "df.shape"
   ]
  },
  {
   "cell_type": "code",
   "execution_count": 122,
   "metadata": {},
   "outputs": [
    {
     "data": {
      "text/plain": [
       "Index(['society', 'price', 'sector', 'price_per_sqft', 'bedRoom', 'bathroom',\n",
       "       'balcony', 'extra_rooms', 'floorNum', 'agePossession', 'built_up_area',\n",
       "       'furnishing_type', 'luxury_score'],\n",
       "      dtype='object')"
      ]
     },
     "execution_count": 122,
     "metadata": {},
     "output_type": "execute_result"
    }
   ],
   "source": [
    "df.columns"
   ]
  },
  {
   "cell_type": "code",
   "execution_count": 123,
   "metadata": {},
   "outputs": [
    {
     "data": {
      "text/plain": [
       "society            0\n",
       "price              0\n",
       "sector             0\n",
       "price_per_sqft     0\n",
       "bedRoom            0\n",
       "bathroom           0\n",
       "balcony            0\n",
       "extra_rooms        0\n",
       "floorNum           0\n",
       "agePossession      0\n",
       "built_up_area      0\n",
       "furnishing_type    0\n",
       "luxury_score       0\n",
       "dtype: int64"
      ]
     },
     "execution_count": 123,
     "metadata": {},
     "output_type": "execute_result"
    }
   ],
   "source": [
    "df.isnull().sum()"
   ]
  },
  {
   "cell_type": "code",
   "execution_count": 124,
   "metadata": {},
   "outputs": [
    {
     "data": {
      "text/plain": [
       "np.int64(3)"
      ]
     },
     "execution_count": 124,
     "metadata": {},
     "output_type": "execute_result"
    }
   ],
   "source": [
    "df.duplicated().sum()"
   ]
  },
  {
   "cell_type": "code",
   "execution_count": 125,
   "metadata": {},
   "outputs": [],
   "source": [
    "df.drop_duplicates(keep='first', inplace=True)"
   ]
  },
  {
   "cell_type": "code",
   "execution_count": 126,
   "metadata": {},
   "outputs": [
    {
     "data": {
      "text/plain": [
       "np.int64(0)"
      ]
     },
     "execution_count": 126,
     "metadata": {},
     "output_type": "execute_result"
    }
   ],
   "source": [
    "df.duplicated().sum()"
   ]
  },
  {
   "cell_type": "code",
   "execution_count": 127,
   "metadata": {},
   "outputs": [
    {
     "data": {
      "text/html": [
       "<div>\n",
       "<style scoped>\n",
       "    .dataframe tbody tr th:only-of-type {\n",
       "        vertical-align: middle;\n",
       "    }\n",
       "\n",
       "    .dataframe tbody tr th {\n",
       "        vertical-align: top;\n",
       "    }\n",
       "\n",
       "    .dataframe thead th {\n",
       "        text-align: right;\n",
       "    }\n",
       "</style>\n",
       "<table border=\"1\" class=\"dataframe\">\n",
       "  <thead>\n",
       "    <tr style=\"text-align: right;\">\n",
       "      <th></th>\n",
       "      <th>price</th>\n",
       "      <th>built_up_area</th>\n",
       "      <th>price_per_sqft</th>\n",
       "    </tr>\n",
       "  </thead>\n",
       "  <tbody>\n",
       "    <tr>\n",
       "      <th>0</th>\n",
       "      <td>0.45</td>\n",
       "      <td>1000.0</td>\n",
       "      <td>5000.0</td>\n",
       "    </tr>\n",
       "    <tr>\n",
       "      <th>1</th>\n",
       "      <td>0.50</td>\n",
       "      <td>722.0</td>\n",
       "      <td>7692.0</td>\n",
       "    </tr>\n",
       "    <tr>\n",
       "      <th>2</th>\n",
       "      <td>0.40</td>\n",
       "      <td>661.0</td>\n",
       "      <td>6723.0</td>\n",
       "    </tr>\n",
       "    <tr>\n",
       "      <th>3</th>\n",
       "      <td>1.47</td>\n",
       "      <td>1333.0</td>\n",
       "      <td>12250.0</td>\n",
       "    </tr>\n",
       "    <tr>\n",
       "      <th>4</th>\n",
       "      <td>0.70</td>\n",
       "      <td>1217.0</td>\n",
       "      <td>5204.0</td>\n",
       "    </tr>\n",
       "    <tr>\n",
       "      <th>...</th>\n",
       "      <td>...</td>\n",
       "      <td>...</td>\n",
       "      <td>...</td>\n",
       "    </tr>\n",
       "    <tr>\n",
       "      <th>2844</th>\n",
       "      <td>1.05</td>\n",
       "      <td>1715.0</td>\n",
       "      <td>5541.0</td>\n",
       "    </tr>\n",
       "    <tr>\n",
       "      <th>2845</th>\n",
       "      <td>3.30</td>\n",
       "      <td>3305.0</td>\n",
       "      <td>9985.0</td>\n",
       "    </tr>\n",
       "    <tr>\n",
       "      <th>2846</th>\n",
       "      <td>0.95</td>\n",
       "      <td>1649.0</td>\n",
       "      <td>5214.0</td>\n",
       "    </tr>\n",
       "    <tr>\n",
       "      <th>2847</th>\n",
       "      <td>5.80</td>\n",
       "      <td>3700.0</td>\n",
       "      <td>12500.0</td>\n",
       "    </tr>\n",
       "    <tr>\n",
       "      <th>2848</th>\n",
       "      <td>11.00</td>\n",
       "      <td>2826.0</td>\n",
       "      <td>35223.0</td>\n",
       "    </tr>\n",
       "  </tbody>\n",
       "</table>\n",
       "<p>2832 rows × 3 columns</p>\n",
       "</div>"
      ],
      "text/plain": [
       "      price  built_up_area  price_per_sqft\n",
       "0      0.45         1000.0          5000.0\n",
       "1      0.50          722.0          7692.0\n",
       "2      0.40          661.0          6723.0\n",
       "3      1.47         1333.0         12250.0\n",
       "4      0.70         1217.0          5204.0\n",
       "...     ...            ...             ...\n",
       "2844   1.05         1715.0          5541.0\n",
       "2845   3.30         3305.0          9985.0\n",
       "2846   0.95         1649.0          5214.0\n",
       "2847   5.80         3700.0         12500.0\n",
       "2848  11.00         2826.0         35223.0\n",
       "\n",
       "[2832 rows x 3 columns]"
      ]
     },
     "execution_count": 127,
     "metadata": {},
     "output_type": "execute_result"
    }
   ],
   "source": [
    "df[['price', 'built_up_area', 'price_per_sqft']]"
   ]
  },
  {
   "cell_type": "markdown",
   "metadata": {},
   "source": [
    "Comment: Since area column has been removed, we need to recalculate price_per_sqft column by price/built_up_area"
   ]
  },
  {
   "cell_type": "code",
   "execution_count": 128,
   "metadata": {},
   "outputs": [],
   "source": [
    "df['price_per_sqft'] = ((df['price'] * 10000000) / df['built_up_area'])"
   ]
  },
  {
   "cell_type": "code",
   "execution_count": 129,
   "metadata": {},
   "outputs": [
    {
     "data": {
      "text/html": [
       "<div>\n",
       "<style scoped>\n",
       "    .dataframe tbody tr th:only-of-type {\n",
       "        vertical-align: middle;\n",
       "    }\n",
       "\n",
       "    .dataframe tbody tr th {\n",
       "        vertical-align: top;\n",
       "    }\n",
       "\n",
       "    .dataframe thead th {\n",
       "        text-align: right;\n",
       "    }\n",
       "</style>\n",
       "<table border=\"1\" class=\"dataframe\">\n",
       "  <thead>\n",
       "    <tr style=\"text-align: right;\">\n",
       "      <th></th>\n",
       "      <th>price</th>\n",
       "      <th>built_up_area</th>\n",
       "      <th>price_per_sqft</th>\n",
       "    </tr>\n",
       "  </thead>\n",
       "  <tbody>\n",
       "    <tr>\n",
       "      <th>0</th>\n",
       "      <td>0.45</td>\n",
       "      <td>1000.0</td>\n",
       "      <td>4500.000000</td>\n",
       "    </tr>\n",
       "    <tr>\n",
       "      <th>1</th>\n",
       "      <td>0.50</td>\n",
       "      <td>722.0</td>\n",
       "      <td>6925.207756</td>\n",
       "    </tr>\n",
       "    <tr>\n",
       "      <th>2</th>\n",
       "      <td>0.40</td>\n",
       "      <td>661.0</td>\n",
       "      <td>6051.437216</td>\n",
       "    </tr>\n",
       "    <tr>\n",
       "      <th>3</th>\n",
       "      <td>1.47</td>\n",
       "      <td>1333.0</td>\n",
       "      <td>11027.756939</td>\n",
       "    </tr>\n",
       "    <tr>\n",
       "      <th>4</th>\n",
       "      <td>0.70</td>\n",
       "      <td>1217.0</td>\n",
       "      <td>5751.848809</td>\n",
       "    </tr>\n",
       "    <tr>\n",
       "      <th>...</th>\n",
       "      <td>...</td>\n",
       "      <td>...</td>\n",
       "      <td>...</td>\n",
       "    </tr>\n",
       "    <tr>\n",
       "      <th>2844</th>\n",
       "      <td>1.05</td>\n",
       "      <td>1715.0</td>\n",
       "      <td>6122.448980</td>\n",
       "    </tr>\n",
       "    <tr>\n",
       "      <th>2845</th>\n",
       "      <td>3.30</td>\n",
       "      <td>3305.0</td>\n",
       "      <td>9984.871407</td>\n",
       "    </tr>\n",
       "    <tr>\n",
       "      <th>2846</th>\n",
       "      <td>0.95</td>\n",
       "      <td>1649.0</td>\n",
       "      <td>5761.067314</td>\n",
       "    </tr>\n",
       "    <tr>\n",
       "      <th>2847</th>\n",
       "      <td>5.80</td>\n",
       "      <td>3700.0</td>\n",
       "      <td>15675.675676</td>\n",
       "    </tr>\n",
       "    <tr>\n",
       "      <th>2848</th>\n",
       "      <td>11.00</td>\n",
       "      <td>2826.0</td>\n",
       "      <td>38924.274593</td>\n",
       "    </tr>\n",
       "  </tbody>\n",
       "</table>\n",
       "<p>2832 rows × 3 columns</p>\n",
       "</div>"
      ],
      "text/plain": [
       "      price  built_up_area  price_per_sqft\n",
       "0      0.45         1000.0     4500.000000\n",
       "1      0.50          722.0     6925.207756\n",
       "2      0.40          661.0     6051.437216\n",
       "3      1.47         1333.0    11027.756939\n",
       "4      0.70         1217.0     5751.848809\n",
       "...     ...            ...             ...\n",
       "2844   1.05         1715.0     6122.448980\n",
       "2845   3.30         3305.0     9984.871407\n",
       "2846   0.95         1649.0     5761.067314\n",
       "2847   5.80         3700.0    15675.675676\n",
       "2848  11.00         2826.0    38924.274593\n",
       "\n",
       "[2832 rows x 3 columns]"
      ]
     },
     "execution_count": 129,
     "metadata": {},
     "output_type": "execute_result"
    }
   ],
   "source": [
    "df[['price', 'built_up_area', 'price_per_sqft']]"
   ]
  },
  {
   "cell_type": "code",
   "execution_count": 130,
   "metadata": {},
   "outputs": [
    {
     "data": {
      "text/plain": [
       "price_per_sqft\n",
       "476.323900      1\n",
       "532.362006      1\n",
       "2266.288952     1\n",
       "2375.000000     1\n",
       "2691.790040     1\n",
       "               ..\n",
       "31003.382187    1\n",
       "31939.605110    1\n",
       "32514.450867    1\n",
       "33333.333333    1\n",
       "38924.274593    1\n",
       "Name: count, Length: 2469, dtype: int64"
      ]
     },
     "execution_count": 130,
     "metadata": {},
     "output_type": "execute_result"
    }
   ],
   "source": [
    "df['price_per_sqft'].value_counts().sort_index()"
   ]
  },
  {
   "cell_type": "code",
   "execution_count": 131,
   "metadata": {},
   "outputs": [],
   "source": [
    "df.to_csv('../data/flats_missing_value_imputation.csv',index=False)"
   ]
  }
 ],
 "metadata": {
  "kernelspec": {
   "display_name": "venv",
   "language": "python",
   "name": "python3"
  },
  "language_info": {
   "codemirror_mode": {
    "name": "ipython",
    "version": 3
   },
   "file_extension": ".py",
   "mimetype": "text/x-python",
   "name": "python",
   "nbconvert_exporter": "python",
   "pygments_lexer": "ipython3",
   "version": "3.10.12"
  }
 },
 "nbformat": 4,
 "nbformat_minor": 2
}
